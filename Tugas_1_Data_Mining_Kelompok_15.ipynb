{
 "cells": [
  {
   "cell_type": "markdown",
   "metadata": {
    "id": "rTLfA13LE3rO"
   },
   "source": [
    "# Mengimport beberapa Library Python"
   ]
  },
  {
   "cell_type": "code",
   "execution_count": 2,
   "metadata": {
    "id": "b4BJawZAE3rl"
   },
   "outputs": [],
   "source": [
    "import numpy as np\n",
    "import pandas as pd\n",
    "import matplotlib.pyplot as plt\n",
    "import seaborn as sns\n",
    "from sklearn.preprocessing import MinMaxScaler"
   ]
  },
  {
   "cell_type": "markdown",
   "metadata": {
    "id": "7eccdPreE3rs"
   },
   "source": [
    "# Membaca file yang akan digunakan (format *csv)"
   ]
  },
  {
   "cell_type": "code",
   "execution_count": 3,
   "metadata": {
    "colab": {
     "base_uri": "https://localhost:8080/",
     "height": 1000
    },
    "id": "TXcmRTMPE3rt",
    "outputId": "68e0e515-903c-4e8e-d016-0af6460e27ec"
   },
   "outputs": [
    {
     "data": {
      "text/html": [
       "<div>\n",
       "<style scoped>\n",
       "    .dataframe tbody tr th:only-of-type {\n",
       "        vertical-align: middle;\n",
       "    }\n",
       "\n",
       "    .dataframe tbody tr th {\n",
       "        vertical-align: top;\n",
       "    }\n",
       "\n",
       "    .dataframe thead th {\n",
       "        text-align: right;\n",
       "    }\n",
       "</style>\n",
       "<table border=\"1\" class=\"dataframe\">\n",
       "  <thead>\n",
       "    <tr style=\"text-align: right;\">\n",
       "      <th></th>\n",
       "      <th>no</th>\n",
       "      <th>Tgl_Iklan</th>\n",
       "      <th>url</th>\n",
       "      <th>harga</th>\n",
       "      <th>Kota</th>\n",
       "      <th>LT</th>\n",
       "      <th>LB</th>\n",
       "      <th>KT</th>\n",
       "      <th>KM</th>\n",
       "      <th>KTP</th>\n",
       "      <th>KMP</th>\n",
       "      <th>carport</th>\n",
       "      <th>garasi</th>\n",
       "      <th>listrik</th>\n",
       "      <th>surat</th>\n",
       "      <th>Judul</th>\n",
       "      <th>deskripsi</th>\n",
       "    </tr>\n",
       "  </thead>\n",
       "  <tbody>\n",
       "    <tr>\n",
       "      <th>0</th>\n",
       "      <td>1</td>\n",
       "      <td>4/6/2021</td>\n",
       "      <td>https://www.rumah123.com/properti/palembang/ho...</td>\n",
       "      <td>1400000000</td>\n",
       "      <td>Palembang</td>\n",
       "      <td>201</td>\n",
       "      <td>192</td>\n",
       "      <td>3</td>\n",
       "      <td>3</td>\n",
       "      <td>0</td>\n",
       "      <td>0</td>\n",
       "      <td>1</td>\n",
       "      <td>1</td>\n",
       "      <td>2200</td>\n",
       "      <td>SHM</td>\n",
       "      <td>New Listing Rumah 2 Lantai Semi furnish di Jl....</td>\n",
       "      <td>SHM IMB PBB KT 3, KM 3, LT 2 HADAP BARAT LISTR...</td>\n",
       "    </tr>\n",
       "    <tr>\n",
       "      <th>1</th>\n",
       "      <td>2</td>\n",
       "      <td>4/6/2021</td>\n",
       "      <td>https://www.rumah123.com/properti/palembang/ho...</td>\n",
       "      <td>3500000000</td>\n",
       "      <td>Palembang</td>\n",
       "      <td>293</td>\n",
       "      <td>58</td>\n",
       "      <td>4</td>\n",
       "      <td>2</td>\n",
       "      <td>0</td>\n",
       "      <td>0</td>\n",
       "      <td>1</td>\n",
       "      <td>0</td>\n",
       "      <td>5000</td>\n",
       "      <td>SHM</td>\n",
       "      <td>New Listing Cepat Rumah Siap Huni di Lorong Ka...</td>\n",
       "      <td>Luas Tanah : 293 M2 Luas Bangunan : 58 M2 Kama...</td>\n",
       "    </tr>\n",
       "    <tr>\n",
       "      <th>2</th>\n",
       "      <td>3</td>\n",
       "      <td>4/6/2021</td>\n",
       "      <td>https://www.rumah123.com/properti/palembang/ho...</td>\n",
       "      <td>1850000000</td>\n",
       "      <td>Palembang</td>\n",
       "      <td>300</td>\n",
       "      <td>300</td>\n",
       "      <td>8</td>\n",
       "      <td>6</td>\n",
       "      <td>0</td>\n",
       "      <td>0</td>\n",
       "      <td>1</td>\n",
       "      <td>1</td>\n",
       "      <td>1300</td>\n",
       "      <td>SHM</td>\n",
       "      <td>Rumah 2 Lantai di Jl. Inspektur Marzuki Pakjo ...</td>\n",
       "      <td>Luas Tanah : 300 m2 Luas Bangunan : 300 m2 Kam...</td>\n",
       "    </tr>\n",
       "    <tr>\n",
       "      <th>3</th>\n",
       "      <td>4</td>\n",
       "      <td>4/9/2021</td>\n",
       "      <td>https://www.rumah123.com/properti/palembang/ho...</td>\n",
       "      <td>800000000</td>\n",
       "      <td>Palembang</td>\n",
       "      <td>154</td>\n",
       "      <td>150</td>\n",
       "      <td>2</td>\n",
       "      <td>1</td>\n",
       "      <td>0</td>\n",
       "      <td>0</td>\n",
       "      <td>1</td>\n",
       "      <td>0</td>\n",
       "      <td>2200</td>\n",
       "      <td>SHM</td>\n",
       "      <td>Rumah Jln Kapten Marzuki, dekat Universitas Tr...</td>\n",
       "      <td>Spesifikasi : Sertifikat Hak Milik PBB Listrik...</td>\n",
       "    </tr>\n",
       "    <tr>\n",
       "      <th>4</th>\n",
       "      <td>5</td>\n",
       "      <td>4/9/2021</td>\n",
       "      <td>https://www.rumah123.com/properti/palembang/ho...</td>\n",
       "      <td>6000000000</td>\n",
       "      <td>Palembang</td>\n",
       "      <td>878</td>\n",
       "      <td>700</td>\n",
       "      <td>5</td>\n",
       "      <td>3</td>\n",
       "      <td>0</td>\n",
       "      <td>0</td>\n",
       "      <td>1</td>\n",
       "      <td>1</td>\n",
       "      <td>1300</td>\n",
       "      <td>SHM</td>\n",
       "      <td>New Listing Rumah Lokasi Strategis di Jl. Sila...</td>\n",
       "      <td>Lokasi Rumah di jalan utama Silaberanti Dekat ...</td>\n",
       "    </tr>\n",
       "    <tr>\n",
       "      <th>5</th>\n",
       "      <td>6</td>\n",
       "      <td>4/9/2021</td>\n",
       "      <td>https://www.rumah123.com/properti/palembang/ho...</td>\n",
       "      <td>1600000000</td>\n",
       "      <td>Palembang</td>\n",
       "      <td>355</td>\n",
       "      <td>200</td>\n",
       "      <td>2</td>\n",
       "      <td>3</td>\n",
       "      <td>0</td>\n",
       "      <td>0</td>\n",
       "      <td>0</td>\n",
       "      <td>0</td>\n",
       "      <td>2200</td>\n",
       "      <td>SHM</td>\n",
       "      <td>New Listing Cepat Rumah 2 Lantai di Jl Tanjung...</td>\n",
       "      <td>Posisi hook, Rumah dengan lingkungan yang nyam...</td>\n",
       "    </tr>\n",
       "    <tr>\n",
       "      <th>6</th>\n",
       "      <td>7</td>\n",
       "      <td>4/9/2021</td>\n",
       "      <td>https://www.rumah123.com/properti/palembang/ho...</td>\n",
       "      <td>1200000000</td>\n",
       "      <td>Palembang</td>\n",
       "      <td>211</td>\n",
       "      <td>150</td>\n",
       "      <td>4</td>\n",
       "      <td>2</td>\n",
       "      <td>1</td>\n",
       "      <td>0</td>\n",
       "      <td>1</td>\n",
       "      <td>0</td>\n",
       "      <td>2200</td>\n",
       "      <td>SHM</td>\n",
       "      <td>New Listing Rumah Nyaman Huni di Jl. Musi 1 Wa...</td>\n",
       "      <td>Lokasi Rumah di Lingkungan Ramai dan Nyaman, C...</td>\n",
       "    </tr>\n",
       "    <tr>\n",
       "      <th>7</th>\n",
       "      <td>8</td>\n",
       "      <td>4/9/2021</td>\n",
       "      <td>https://www.rumah123.com/properti/palembang/ho...</td>\n",
       "      <td>400000000</td>\n",
       "      <td>Palembang</td>\n",
       "      <td>84</td>\n",
       "      <td>40</td>\n",
       "      <td>2</td>\n",
       "      <td>1</td>\n",
       "      <td>0</td>\n",
       "      <td>0</td>\n",
       "      <td>1</td>\n",
       "      <td>0</td>\n",
       "      <td>0</td>\n",
       "      <td>SHM</td>\n",
       "      <td>Miliki Hunian Komersil Green Center Park Terba...</td>\n",
       "      <td>Khusus : Pns, Bumd, Bumn, Karyawan Swasta Nasi...</td>\n",
       "    </tr>\n",
       "    <tr>\n",
       "      <th>8</th>\n",
       "      <td>9</td>\n",
       "      <td>4/9/2021</td>\n",
       "      <td>https://www.rumah123.com/properti/palembang/ho...</td>\n",
       "      <td>850000000</td>\n",
       "      <td>Palembang</td>\n",
       "      <td>560</td>\n",
       "      <td>120</td>\n",
       "      <td>3</td>\n",
       "      <td>2</td>\n",
       "      <td>0</td>\n",
       "      <td>0</td>\n",
       "      <td>1</td>\n",
       "      <td>0</td>\n",
       "      <td>2200</td>\n",
       "      <td>SHM</td>\n",
       "      <td>New Listing Rumah Hunian di Jl. May Zen Dekat ...</td>\n",
       "      <td>Rumah kondisi bagus dan terawat. Siap huni. te...</td>\n",
       "    </tr>\n",
       "    <tr>\n",
       "      <th>9</th>\n",
       "      <td>10</td>\n",
       "      <td>4/6/2021</td>\n",
       "      <td>https://www.rumah123.com/properti/palembang/ho...</td>\n",
       "      <td>1800000000</td>\n",
       "      <td>Palembang</td>\n",
       "      <td>461</td>\n",
       "      <td>70</td>\n",
       "      <td>4</td>\n",
       "      <td>3</td>\n",
       "      <td>0</td>\n",
       "      <td>0</td>\n",
       "      <td>1</td>\n",
       "      <td>0</td>\n",
       "      <td>1300</td>\n",
       "      <td>SHM</td>\n",
       "      <td>Rumah di Jl. Mojopahit Kertapati Seberang Ulu ...</td>\n",
       "      <td>Akses jalan 2 mobil 200m dari jalan Utama Loka...</td>\n",
       "    </tr>\n",
       "    <tr>\n",
       "      <th>10</th>\n",
       "      <td>11</td>\n",
       "      <td>4/6/2021</td>\n",
       "      <td>https://www.rumah123.com/properti/palembang/ho...</td>\n",
       "      <td>2500000000</td>\n",
       "      <td>Palembang</td>\n",
       "      <td>377</td>\n",
       "      <td>320</td>\n",
       "      <td>3</td>\n",
       "      <td>3</td>\n",
       "      <td>0</td>\n",
       "      <td>0</td>\n",
       "      <td>1</td>\n",
       "      <td>1</td>\n",
       "      <td>2200</td>\n",
       "      <td>SHM</td>\n",
       "      <td>New Listing Rumah Nyaman Huni di Jl. Lingkar I...</td>\n",
       "      <td>Akses jalan 2 mobil Lokasi ditengah kota Palem...</td>\n",
       "    </tr>\n",
       "  </tbody>\n",
       "</table>\n",
       "</div>"
      ],
      "text/plain": [
       "    no Tgl_Iklan                                                url  \\\n",
       "0    1  4/6/2021  https://www.rumah123.com/properti/palembang/ho...   \n",
       "1    2  4/6/2021  https://www.rumah123.com/properti/palembang/ho...   \n",
       "2    3  4/6/2021  https://www.rumah123.com/properti/palembang/ho...   \n",
       "3    4  4/9/2021  https://www.rumah123.com/properti/palembang/ho...   \n",
       "4    5  4/9/2021  https://www.rumah123.com/properti/palembang/ho...   \n",
       "5    6  4/9/2021  https://www.rumah123.com/properti/palembang/ho...   \n",
       "6    7  4/9/2021  https://www.rumah123.com/properti/palembang/ho...   \n",
       "7    8  4/9/2021  https://www.rumah123.com/properti/palembang/ho...   \n",
       "8    9  4/9/2021  https://www.rumah123.com/properti/palembang/ho...   \n",
       "9   10  4/6/2021  https://www.rumah123.com/properti/palembang/ho...   \n",
       "10  11  4/6/2021  https://www.rumah123.com/properti/palembang/ho...   \n",
       "\n",
       "         harga       Kota   LT   LB  KT  KM  KTP  KMP  carport  garasi  \\\n",
       "0   1400000000  Palembang  201  192   3   3    0    0        1       1   \n",
       "1   3500000000  Palembang  293   58   4   2    0    0        1       0   \n",
       "2   1850000000  Palembang  300  300   8   6    0    0        1       1   \n",
       "3    800000000  Palembang  154  150   2   1    0    0        1       0   \n",
       "4   6000000000  Palembang  878  700   5   3    0    0        1       1   \n",
       "5   1600000000  Palembang  355  200   2   3    0    0        0       0   \n",
       "6   1200000000  Palembang  211  150   4   2    1    0        1       0   \n",
       "7    400000000  Palembang   84   40   2   1    0    0        1       0   \n",
       "8    850000000  Palembang  560  120   3   2    0    0        1       0   \n",
       "9   1800000000  Palembang  461   70   4   3    0    0        1       0   \n",
       "10  2500000000  Palembang  377  320   3   3    0    0        1       1   \n",
       "\n",
       "    listrik surat                                              Judul  \\\n",
       "0      2200   SHM  New Listing Rumah 2 Lantai Semi furnish di Jl....   \n",
       "1      5000   SHM  New Listing Cepat Rumah Siap Huni di Lorong Ka...   \n",
       "2      1300   SHM  Rumah 2 Lantai di Jl. Inspektur Marzuki Pakjo ...   \n",
       "3      2200   SHM  Rumah Jln Kapten Marzuki, dekat Universitas Tr...   \n",
       "4      1300   SHM  New Listing Rumah Lokasi Strategis di Jl. Sila...   \n",
       "5      2200   SHM  New Listing Cepat Rumah 2 Lantai di Jl Tanjung...   \n",
       "6      2200   SHM  New Listing Rumah Nyaman Huni di Jl. Musi 1 Wa...   \n",
       "7         0   SHM  Miliki Hunian Komersil Green Center Park Terba...   \n",
       "8      2200   SHM  New Listing Rumah Hunian di Jl. May Zen Dekat ...   \n",
       "9      1300   SHM  Rumah di Jl. Mojopahit Kertapati Seberang Ulu ...   \n",
       "10     2200   SHM  New Listing Rumah Nyaman Huni di Jl. Lingkar I...   \n",
       "\n",
       "                                            deskripsi  \n",
       "0   SHM IMB PBB KT 3, KM 3, LT 2 HADAP BARAT LISTR...  \n",
       "1   Luas Tanah : 293 M2 Luas Bangunan : 58 M2 Kama...  \n",
       "2   Luas Tanah : 300 m2 Luas Bangunan : 300 m2 Kam...  \n",
       "3   Spesifikasi : Sertifikat Hak Milik PBB Listrik...  \n",
       "4   Lokasi Rumah di jalan utama Silaberanti Dekat ...  \n",
       "5   Posisi hook, Rumah dengan lingkungan yang nyam...  \n",
       "6   Lokasi Rumah di Lingkungan Ramai dan Nyaman, C...  \n",
       "7   Khusus : Pns, Bumd, Bumn, Karyawan Swasta Nasi...  \n",
       "8   Rumah kondisi bagus dan terawat. Siap huni. te...  \n",
       "9   Akses jalan 2 mobil 200m dari jalan Utama Loka...  \n",
       "10  Akses jalan 2 mobil Lokasi ditengah kota Palem...  "
      ]
     },
     "execution_count": 3,
     "metadata": {},
     "output_type": "execute_result"
    }
   ],
   "source": [
    "house_price = pd.read_csv('https://raw.githubusercontent.com/MYusmarAulia/DataMiningKelompok15/main/Tugas%2001%20Data%20Mining%20-%20Kelompok%2015.csv')\n",
    "house_price.head(11)"
   ]
  },
  {
   "cell_type": "markdown",
   "metadata": {
    "id": "nq6N9NoWE3rx"
   },
   "source": [
    "# Removing Variable"
   ]
  },
  {
   "cell_type": "markdown",
   "metadata": {
    "id": "bxGGyG_PE3ry"
   },
   "source": [
    "## Mengecek fitur yang ada"
   ]
  },
  {
   "cell_type": "code",
   "execution_count": 4,
   "metadata": {
    "colab": {
     "base_uri": "https://localhost:8080/"
    },
    "id": "C8oUU-gaE3rz",
    "outputId": "c4fdafef-057f-4a74-c476-695845eafc36"
   },
   "outputs": [
    {
     "data": {
      "text/plain": [
       "Index(['no', 'Tgl_Iklan', 'url', 'harga', 'Kota', 'LT', 'LB', 'KT', 'KM',\n",
       "       'KTP', 'KMP', 'carport', 'garasi', 'listrik', 'surat', 'Judul',\n",
       "       'deskripsi'],\n",
       "      dtype='object')"
      ]
     },
     "execution_count": 4,
     "metadata": {},
     "output_type": "execute_result"
    }
   ],
   "source": [
    "house_price.columns"
   ]
  },
  {
   "cell_type": "markdown",
   "metadata": {
    "id": "X1r_kypiE3r0"
   },
   "source": [
    "## Menghilangkan No, url, kota, judul, dan deskripsi"
   ]
  },
  {
   "cell_type": "code",
   "execution_count": 5,
   "metadata": {
    "colab": {
     "base_uri": "https://localhost:8080/",
     "height": 390
    },
    "id": "QM45YQrWE3r1",
    "outputId": "8b6bbe68-e8b6-465d-ad14-4d8a52d08028"
   },
   "outputs": [
    {
     "data": {
      "text/html": [
       "<div>\n",
       "<style scoped>\n",
       "    .dataframe tbody tr th:only-of-type {\n",
       "        vertical-align: middle;\n",
       "    }\n",
       "\n",
       "    .dataframe tbody tr th {\n",
       "        vertical-align: top;\n",
       "    }\n",
       "\n",
       "    .dataframe thead th {\n",
       "        text-align: right;\n",
       "    }\n",
       "</style>\n",
       "<table border=\"1\" class=\"dataframe\">\n",
       "  <thead>\n",
       "    <tr style=\"text-align: right;\">\n",
       "      <th></th>\n",
       "      <th>Tgl_Iklan</th>\n",
       "      <th>harga</th>\n",
       "      <th>LT</th>\n",
       "      <th>LB</th>\n",
       "      <th>KT</th>\n",
       "      <th>KM</th>\n",
       "      <th>KTP</th>\n",
       "      <th>KMP</th>\n",
       "      <th>carport</th>\n",
       "      <th>garasi</th>\n",
       "      <th>listrik</th>\n",
       "      <th>surat</th>\n",
       "    </tr>\n",
       "  </thead>\n",
       "  <tbody>\n",
       "    <tr>\n",
       "      <th>0</th>\n",
       "      <td>4/6/2021</td>\n",
       "      <td>1400000000</td>\n",
       "      <td>201</td>\n",
       "      <td>192</td>\n",
       "      <td>3</td>\n",
       "      <td>3</td>\n",
       "      <td>0</td>\n",
       "      <td>0</td>\n",
       "      <td>1</td>\n",
       "      <td>1</td>\n",
       "      <td>2200</td>\n",
       "      <td>SHM</td>\n",
       "    </tr>\n",
       "    <tr>\n",
       "      <th>1</th>\n",
       "      <td>4/6/2021</td>\n",
       "      <td>3500000000</td>\n",
       "      <td>293</td>\n",
       "      <td>58</td>\n",
       "      <td>4</td>\n",
       "      <td>2</td>\n",
       "      <td>0</td>\n",
       "      <td>0</td>\n",
       "      <td>1</td>\n",
       "      <td>0</td>\n",
       "      <td>5000</td>\n",
       "      <td>SHM</td>\n",
       "    </tr>\n",
       "    <tr>\n",
       "      <th>2</th>\n",
       "      <td>4/6/2021</td>\n",
       "      <td>1850000000</td>\n",
       "      <td>300</td>\n",
       "      <td>300</td>\n",
       "      <td>8</td>\n",
       "      <td>6</td>\n",
       "      <td>0</td>\n",
       "      <td>0</td>\n",
       "      <td>1</td>\n",
       "      <td>1</td>\n",
       "      <td>1300</td>\n",
       "      <td>SHM</td>\n",
       "    </tr>\n",
       "    <tr>\n",
       "      <th>3</th>\n",
       "      <td>4/9/2021</td>\n",
       "      <td>800000000</td>\n",
       "      <td>154</td>\n",
       "      <td>150</td>\n",
       "      <td>2</td>\n",
       "      <td>1</td>\n",
       "      <td>0</td>\n",
       "      <td>0</td>\n",
       "      <td>1</td>\n",
       "      <td>0</td>\n",
       "      <td>2200</td>\n",
       "      <td>SHM</td>\n",
       "    </tr>\n",
       "    <tr>\n",
       "      <th>4</th>\n",
       "      <td>4/9/2021</td>\n",
       "      <td>6000000000</td>\n",
       "      <td>878</td>\n",
       "      <td>700</td>\n",
       "      <td>5</td>\n",
       "      <td>3</td>\n",
       "      <td>0</td>\n",
       "      <td>0</td>\n",
       "      <td>1</td>\n",
       "      <td>1</td>\n",
       "      <td>1300</td>\n",
       "      <td>SHM</td>\n",
       "    </tr>\n",
       "    <tr>\n",
       "      <th>5</th>\n",
       "      <td>4/9/2021</td>\n",
       "      <td>1600000000</td>\n",
       "      <td>355</td>\n",
       "      <td>200</td>\n",
       "      <td>2</td>\n",
       "      <td>3</td>\n",
       "      <td>0</td>\n",
       "      <td>0</td>\n",
       "      <td>0</td>\n",
       "      <td>0</td>\n",
       "      <td>2200</td>\n",
       "      <td>SHM</td>\n",
       "    </tr>\n",
       "    <tr>\n",
       "      <th>6</th>\n",
       "      <td>4/9/2021</td>\n",
       "      <td>1200000000</td>\n",
       "      <td>211</td>\n",
       "      <td>150</td>\n",
       "      <td>4</td>\n",
       "      <td>2</td>\n",
       "      <td>1</td>\n",
       "      <td>0</td>\n",
       "      <td>1</td>\n",
       "      <td>0</td>\n",
       "      <td>2200</td>\n",
       "      <td>SHM</td>\n",
       "    </tr>\n",
       "    <tr>\n",
       "      <th>7</th>\n",
       "      <td>4/9/2021</td>\n",
       "      <td>400000000</td>\n",
       "      <td>84</td>\n",
       "      <td>40</td>\n",
       "      <td>2</td>\n",
       "      <td>1</td>\n",
       "      <td>0</td>\n",
       "      <td>0</td>\n",
       "      <td>1</td>\n",
       "      <td>0</td>\n",
       "      <td>0</td>\n",
       "      <td>SHM</td>\n",
       "    </tr>\n",
       "    <tr>\n",
       "      <th>8</th>\n",
       "      <td>4/9/2021</td>\n",
       "      <td>850000000</td>\n",
       "      <td>560</td>\n",
       "      <td>120</td>\n",
       "      <td>3</td>\n",
       "      <td>2</td>\n",
       "      <td>0</td>\n",
       "      <td>0</td>\n",
       "      <td>1</td>\n",
       "      <td>0</td>\n",
       "      <td>2200</td>\n",
       "      <td>SHM</td>\n",
       "    </tr>\n",
       "    <tr>\n",
       "      <th>9</th>\n",
       "      <td>4/6/2021</td>\n",
       "      <td>1800000000</td>\n",
       "      <td>461</td>\n",
       "      <td>70</td>\n",
       "      <td>4</td>\n",
       "      <td>3</td>\n",
       "      <td>0</td>\n",
       "      <td>0</td>\n",
       "      <td>1</td>\n",
       "      <td>0</td>\n",
       "      <td>1300</td>\n",
       "      <td>SHM</td>\n",
       "    </tr>\n",
       "    <tr>\n",
       "      <th>10</th>\n",
       "      <td>4/6/2021</td>\n",
       "      <td>2500000000</td>\n",
       "      <td>377</td>\n",
       "      <td>320</td>\n",
       "      <td>3</td>\n",
       "      <td>3</td>\n",
       "      <td>0</td>\n",
       "      <td>0</td>\n",
       "      <td>1</td>\n",
       "      <td>1</td>\n",
       "      <td>2200</td>\n",
       "      <td>SHM</td>\n",
       "    </tr>\n",
       "  </tbody>\n",
       "</table>\n",
       "</div>"
      ],
      "text/plain": [
       "   Tgl_Iklan       harga   LT   LB  KT  KM  KTP  KMP  carport  garasi  \\\n",
       "0   4/6/2021  1400000000  201  192   3   3    0    0        1       1   \n",
       "1   4/6/2021  3500000000  293   58   4   2    0    0        1       0   \n",
       "2   4/6/2021  1850000000  300  300   8   6    0    0        1       1   \n",
       "3   4/9/2021   800000000  154  150   2   1    0    0        1       0   \n",
       "4   4/9/2021  6000000000  878  700   5   3    0    0        1       1   \n",
       "5   4/9/2021  1600000000  355  200   2   3    0    0        0       0   \n",
       "6   4/9/2021  1200000000  211  150   4   2    1    0        1       0   \n",
       "7   4/9/2021   400000000   84   40   2   1    0    0        1       0   \n",
       "8   4/9/2021   850000000  560  120   3   2    0    0        1       0   \n",
       "9   4/6/2021  1800000000  461   70   4   3    0    0        1       0   \n",
       "10  4/6/2021  2500000000  377  320   3   3    0    0        1       1   \n",
       "\n",
       "    listrik surat  \n",
       "0      2200   SHM  \n",
       "1      5000   SHM  \n",
       "2      1300   SHM  \n",
       "3      2200   SHM  \n",
       "4      1300   SHM  \n",
       "5      2200   SHM  \n",
       "6      2200   SHM  \n",
       "7         0   SHM  \n",
       "8      2200   SHM  \n",
       "9      1300   SHM  \n",
       "10     2200   SHM  "
      ]
     },
     "execution_count": 5,
     "metadata": {},
     "output_type": "execute_result"
    }
   ],
   "source": [
    "house_fix = house_price.copy()\n",
    "house_fix.drop(['no','url','Kota','Judul','deskripsi'], axis=1, inplace=True)\n",
    "house_fix.head(11)"
   ]
  },
  {
   "cell_type": "markdown",
   "metadata": {
    "id": "XojnbG5QE3r2"
   },
   "source": [
    "# Mengoreksi Tipe Variabel"
   ]
  },
  {
   "cell_type": "code",
   "execution_count": 6,
   "metadata": {
    "colab": {
     "base_uri": "https://localhost:8080/"
    },
    "id": "TYL5XNAlE3r2",
    "outputId": "7974afe5-82fc-43d4-a9ba-9590b5a726a5",
    "scrolled": false
   },
   "outputs": [
    {
     "name": "stdout",
     "output_type": "stream",
     "text": [
      "<class 'pandas.core.frame.DataFrame'>\n",
      "RangeIndex: 100 entries, 0 to 99\n",
      "Data columns (total 12 columns):\n",
      " #   Column     Non-Null Count  Dtype \n",
      "---  ------     --------------  ----- \n",
      " 0   Tgl_Iklan  100 non-null    object\n",
      " 1   harga      100 non-null    int64 \n",
      " 2   LT         100 non-null    int64 \n",
      " 3   LB         100 non-null    int64 \n",
      " 4   KT         100 non-null    int64 \n",
      " 5   KM         100 non-null    int64 \n",
      " 6   KTP        100 non-null    int64 \n",
      " 7   KMP        100 non-null    int64 \n",
      " 8   carport    100 non-null    int64 \n",
      " 9   garasi     100 non-null    int64 \n",
      " 10  listrik    100 non-null    int64 \n",
      " 11  surat      100 non-null    object\n",
      "dtypes: int64(10), object(2)\n",
      "memory usage: 9.5+ KB\n"
     ]
    }
   ],
   "source": [
    "house_fix.info()"
   ]
  },
  {
   "cell_type": "markdown",
   "metadata": {
    "id": "yvxNfe6rE3r3"
   },
   "source": [
    "## Penyesuaian tipe data pada Tgl_iklan dan surat"
   ]
  },
  {
   "cell_type": "code",
   "execution_count": 7,
   "metadata": {
    "colab": {
     "base_uri": "https://localhost:8080/"
    },
    "id": "4YRUxJ2sE3r5",
    "outputId": "68cc670b-c505-4469-d05a-49321a8f651c",
    "scrolled": true
   },
   "outputs": [
    {
     "data": {
      "text/plain": [
       "Tgl_Iklan    datetime64[ns]\n",
       "harga                 int64\n",
       "LT                    int64\n",
       "LB                    int64\n",
       "KT                    int64\n",
       "KM                    int64\n",
       "KTP                   int64\n",
       "KMP                   int64\n",
       "carport               int64\n",
       "garasi                int64\n",
       "listrik               int64\n",
       "surat              category\n",
       "dtype: object"
      ]
     },
     "execution_count": 7,
     "metadata": {},
     "output_type": "execute_result"
    }
   ],
   "source": [
    "house_fix['Tgl_Iklan']= pd.to_datetime(house_fix['Tgl_Iklan'],dayfirst=True)\n",
    "house_fix['surat']=house_fix['surat'].astype('category')\n",
    "house_fix.dtypes"
   ]
  },
  {
   "cell_type": "markdown",
   "metadata": {
    "id": "0bE7SrIYE3r7"
   },
   "source": [
    "# Mendeteksi data duplikat"
   ]
  },
  {
   "cell_type": "code",
   "execution_count": 8,
   "metadata": {
    "colab": {
     "base_uri": "https://localhost:8080/"
    },
    "id": "eFCj1UALE3r8",
    "outputId": "103af379-2ce4-44c7-a941-cfbc103e6707"
   },
   "outputs": [
    {
     "data": {
      "text/plain": [
       "False"
      ]
     },
     "execution_count": 8,
     "metadata": {},
     "output_type": "execute_result"
    }
   ],
   "source": [
    "house_fix.duplicated().any()"
   ]
  },
  {
   "cell_type": "markdown",
   "metadata": {
    "id": "tCxPdrEWE3r9"
   },
   "source": [
    "# Variable Selection (memisahkan variabel numerik & kategorik)"
   ]
  },
  {
   "cell_type": "markdown",
   "metadata": {
    "id": "k1QUAUcME3r-"
   },
   "source": [
    "## variabel dengan tipe data numerik"
   ]
  },
  {
   "cell_type": "code",
   "execution_count": 9,
   "metadata": {
    "colab": {
     "base_uri": "https://localhost:8080/",
     "height": 390
    },
    "id": "v3olGIjcE3r-",
    "outputId": "477e265c-77e6-49fc-ebfa-919f327205b7",
    "scrolled": true
   },
   "outputs": [
    {
     "data": {
      "text/html": [
       "<div>\n",
       "<style scoped>\n",
       "    .dataframe tbody tr th:only-of-type {\n",
       "        vertical-align: middle;\n",
       "    }\n",
       "\n",
       "    .dataframe tbody tr th {\n",
       "        vertical-align: top;\n",
       "    }\n",
       "\n",
       "    .dataframe thead th {\n",
       "        text-align: right;\n",
       "    }\n",
       "</style>\n",
       "<table border=\"1\" class=\"dataframe\">\n",
       "  <thead>\n",
       "    <tr style=\"text-align: right;\">\n",
       "      <th></th>\n",
       "      <th>harga</th>\n",
       "      <th>LT</th>\n",
       "      <th>LB</th>\n",
       "      <th>KT</th>\n",
       "      <th>KM</th>\n",
       "      <th>KTP</th>\n",
       "      <th>KMP</th>\n",
       "      <th>carport</th>\n",
       "      <th>garasi</th>\n",
       "      <th>listrik</th>\n",
       "    </tr>\n",
       "  </thead>\n",
       "  <tbody>\n",
       "    <tr>\n",
       "      <th>0</th>\n",
       "      <td>1400000000</td>\n",
       "      <td>201</td>\n",
       "      <td>192</td>\n",
       "      <td>3</td>\n",
       "      <td>3</td>\n",
       "      <td>0</td>\n",
       "      <td>0</td>\n",
       "      <td>1</td>\n",
       "      <td>1</td>\n",
       "      <td>2200</td>\n",
       "    </tr>\n",
       "    <tr>\n",
       "      <th>1</th>\n",
       "      <td>3500000000</td>\n",
       "      <td>293</td>\n",
       "      <td>58</td>\n",
       "      <td>4</td>\n",
       "      <td>2</td>\n",
       "      <td>0</td>\n",
       "      <td>0</td>\n",
       "      <td>1</td>\n",
       "      <td>0</td>\n",
       "      <td>5000</td>\n",
       "    </tr>\n",
       "    <tr>\n",
       "      <th>2</th>\n",
       "      <td>1850000000</td>\n",
       "      <td>300</td>\n",
       "      <td>300</td>\n",
       "      <td>8</td>\n",
       "      <td>6</td>\n",
       "      <td>0</td>\n",
       "      <td>0</td>\n",
       "      <td>1</td>\n",
       "      <td>1</td>\n",
       "      <td>1300</td>\n",
       "    </tr>\n",
       "    <tr>\n",
       "      <th>3</th>\n",
       "      <td>800000000</td>\n",
       "      <td>154</td>\n",
       "      <td>150</td>\n",
       "      <td>2</td>\n",
       "      <td>1</td>\n",
       "      <td>0</td>\n",
       "      <td>0</td>\n",
       "      <td>1</td>\n",
       "      <td>0</td>\n",
       "      <td>2200</td>\n",
       "    </tr>\n",
       "    <tr>\n",
       "      <th>4</th>\n",
       "      <td>6000000000</td>\n",
       "      <td>878</td>\n",
       "      <td>700</td>\n",
       "      <td>5</td>\n",
       "      <td>3</td>\n",
       "      <td>0</td>\n",
       "      <td>0</td>\n",
       "      <td>1</td>\n",
       "      <td>1</td>\n",
       "      <td>1300</td>\n",
       "    </tr>\n",
       "    <tr>\n",
       "      <th>5</th>\n",
       "      <td>1600000000</td>\n",
       "      <td>355</td>\n",
       "      <td>200</td>\n",
       "      <td>2</td>\n",
       "      <td>3</td>\n",
       "      <td>0</td>\n",
       "      <td>0</td>\n",
       "      <td>0</td>\n",
       "      <td>0</td>\n",
       "      <td>2200</td>\n",
       "    </tr>\n",
       "    <tr>\n",
       "      <th>6</th>\n",
       "      <td>1200000000</td>\n",
       "      <td>211</td>\n",
       "      <td>150</td>\n",
       "      <td>4</td>\n",
       "      <td>2</td>\n",
       "      <td>1</td>\n",
       "      <td>0</td>\n",
       "      <td>1</td>\n",
       "      <td>0</td>\n",
       "      <td>2200</td>\n",
       "    </tr>\n",
       "    <tr>\n",
       "      <th>7</th>\n",
       "      <td>400000000</td>\n",
       "      <td>84</td>\n",
       "      <td>40</td>\n",
       "      <td>2</td>\n",
       "      <td>1</td>\n",
       "      <td>0</td>\n",
       "      <td>0</td>\n",
       "      <td>1</td>\n",
       "      <td>0</td>\n",
       "      <td>0</td>\n",
       "    </tr>\n",
       "    <tr>\n",
       "      <th>8</th>\n",
       "      <td>850000000</td>\n",
       "      <td>560</td>\n",
       "      <td>120</td>\n",
       "      <td>3</td>\n",
       "      <td>2</td>\n",
       "      <td>0</td>\n",
       "      <td>0</td>\n",
       "      <td>1</td>\n",
       "      <td>0</td>\n",
       "      <td>2200</td>\n",
       "    </tr>\n",
       "    <tr>\n",
       "      <th>9</th>\n",
       "      <td>1800000000</td>\n",
       "      <td>461</td>\n",
       "      <td>70</td>\n",
       "      <td>4</td>\n",
       "      <td>3</td>\n",
       "      <td>0</td>\n",
       "      <td>0</td>\n",
       "      <td>1</td>\n",
       "      <td>0</td>\n",
       "      <td>1300</td>\n",
       "    </tr>\n",
       "    <tr>\n",
       "      <th>10</th>\n",
       "      <td>2500000000</td>\n",
       "      <td>377</td>\n",
       "      <td>320</td>\n",
       "      <td>3</td>\n",
       "      <td>3</td>\n",
       "      <td>0</td>\n",
       "      <td>0</td>\n",
       "      <td>1</td>\n",
       "      <td>1</td>\n",
       "      <td>2200</td>\n",
       "    </tr>\n",
       "  </tbody>\n",
       "</table>\n",
       "</div>"
      ],
      "text/plain": [
       "         harga   LT   LB  KT  KM  KTP  KMP  carport  garasi  listrik\n",
       "0   1400000000  201  192   3   3    0    0        1       1     2200\n",
       "1   3500000000  293   58   4   2    0    0        1       0     5000\n",
       "2   1850000000  300  300   8   6    0    0        1       1     1300\n",
       "3    800000000  154  150   2   1    0    0        1       0     2200\n",
       "4   6000000000  878  700   5   3    0    0        1       1     1300\n",
       "5   1600000000  355  200   2   3    0    0        0       0     2200\n",
       "6   1200000000  211  150   4   2    1    0        1       0     2200\n",
       "7    400000000   84   40   2   1    0    0        1       0        0\n",
       "8    850000000  560  120   3   2    0    0        1       0     2200\n",
       "9   1800000000  461   70   4   3    0    0        1       0     1300\n",
       "10  2500000000  377  320   3   3    0    0        1       1     2200"
      ]
     },
     "execution_count": 9,
     "metadata": {},
     "output_type": "execute_result"
    }
   ],
   "source": [
    "price_num = house_fix.select_dtypes(include=['int64','float64'])\n",
    "price_num.head(11)"
   ]
  },
  {
   "cell_type": "markdown",
   "metadata": {
    "id": "Ih3LkJiEE3r_"
   },
   "source": [
    "## variabel dengan tipe data kategorik"
   ]
  },
  {
   "cell_type": "code",
   "execution_count": 10,
   "metadata": {
    "colab": {
     "base_uri": "https://localhost:8080/",
     "height": 390
    },
    "id": "4NtXUZ_vE3sA",
    "outputId": "376de4ad-316c-4b01-cd89-3e6125236a6a"
   },
   "outputs": [
    {
     "data": {
      "text/html": [
       "<div>\n",
       "<style scoped>\n",
       "    .dataframe tbody tr th:only-of-type {\n",
       "        vertical-align: middle;\n",
       "    }\n",
       "\n",
       "    .dataframe tbody tr th {\n",
       "        vertical-align: top;\n",
       "    }\n",
       "\n",
       "    .dataframe thead th {\n",
       "        text-align: right;\n",
       "    }\n",
       "</style>\n",
       "<table border=\"1\" class=\"dataframe\">\n",
       "  <thead>\n",
       "    <tr style=\"text-align: right;\">\n",
       "      <th></th>\n",
       "      <th>surat</th>\n",
       "    </tr>\n",
       "  </thead>\n",
       "  <tbody>\n",
       "    <tr>\n",
       "      <th>0</th>\n",
       "      <td>SHM</td>\n",
       "    </tr>\n",
       "    <tr>\n",
       "      <th>1</th>\n",
       "      <td>SHM</td>\n",
       "    </tr>\n",
       "    <tr>\n",
       "      <th>2</th>\n",
       "      <td>SHM</td>\n",
       "    </tr>\n",
       "    <tr>\n",
       "      <th>3</th>\n",
       "      <td>SHM</td>\n",
       "    </tr>\n",
       "    <tr>\n",
       "      <th>4</th>\n",
       "      <td>SHM</td>\n",
       "    </tr>\n",
       "    <tr>\n",
       "      <th>5</th>\n",
       "      <td>SHM</td>\n",
       "    </tr>\n",
       "    <tr>\n",
       "      <th>6</th>\n",
       "      <td>SHM</td>\n",
       "    </tr>\n",
       "    <tr>\n",
       "      <th>7</th>\n",
       "      <td>SHM</td>\n",
       "    </tr>\n",
       "    <tr>\n",
       "      <th>8</th>\n",
       "      <td>SHM</td>\n",
       "    </tr>\n",
       "    <tr>\n",
       "      <th>9</th>\n",
       "      <td>SHM</td>\n",
       "    </tr>\n",
       "    <tr>\n",
       "      <th>10</th>\n",
       "      <td>SHM</td>\n",
       "    </tr>\n",
       "  </tbody>\n",
       "</table>\n",
       "</div>"
      ],
      "text/plain": [
       "   surat\n",
       "0    SHM\n",
       "1    SHM\n",
       "2    SHM\n",
       "3    SHM\n",
       "4    SHM\n",
       "5    SHM\n",
       "6    SHM\n",
       "7    SHM\n",
       "8    SHM\n",
       "9    SHM\n",
       "10   SHM"
      ]
     },
     "execution_count": 10,
     "metadata": {},
     "output_type": "execute_result"
    }
   ],
   "source": [
    "price_cat = house_fix.select_dtypes(include=['category'])\n",
    "price_cat.head(11)"
   ]
  },
  {
   "cell_type": "markdown",
   "metadata": {
    "id": "al8Le9XUE3sA"
   },
   "source": [
    "# Dasar Pengolahan variabel Kategorik: Dummy Variable"
   ]
  },
  {
   "cell_type": "code",
   "execution_count": 11,
   "metadata": {
    "colab": {
     "base_uri": "https://localhost:8080/",
     "height": 390
    },
    "id": "iS6YoQMSE3sB",
    "outputId": "c100645f-a192-44c7-8ace-b36bd2eb9e7d"
   },
   "outputs": [
    {
     "data": {
      "text/html": [
       "<div>\n",
       "<style scoped>\n",
       "    .dataframe tbody tr th:only-of-type {\n",
       "        vertical-align: middle;\n",
       "    }\n",
       "\n",
       "    .dataframe tbody tr th {\n",
       "        vertical-align: top;\n",
       "    }\n",
       "\n",
       "    .dataframe thead th {\n",
       "        text-align: right;\n",
       "    }\n",
       "</style>\n",
       "<table border=\"1\" class=\"dataframe\">\n",
       "  <thead>\n",
       "    <tr style=\"text-align: right;\">\n",
       "      <th></th>\n",
       "      <th>HGB</th>\n",
       "      <th>SHGB</th>\n",
       "      <th>SHM</th>\n",
       "    </tr>\n",
       "  </thead>\n",
       "  <tbody>\n",
       "    <tr>\n",
       "      <th>0</th>\n",
       "      <td>0</td>\n",
       "      <td>0</td>\n",
       "      <td>1</td>\n",
       "    </tr>\n",
       "    <tr>\n",
       "      <th>1</th>\n",
       "      <td>0</td>\n",
       "      <td>0</td>\n",
       "      <td>1</td>\n",
       "    </tr>\n",
       "    <tr>\n",
       "      <th>2</th>\n",
       "      <td>0</td>\n",
       "      <td>0</td>\n",
       "      <td>1</td>\n",
       "    </tr>\n",
       "    <tr>\n",
       "      <th>3</th>\n",
       "      <td>0</td>\n",
       "      <td>0</td>\n",
       "      <td>1</td>\n",
       "    </tr>\n",
       "    <tr>\n",
       "      <th>4</th>\n",
       "      <td>0</td>\n",
       "      <td>0</td>\n",
       "      <td>1</td>\n",
       "    </tr>\n",
       "    <tr>\n",
       "      <th>5</th>\n",
       "      <td>0</td>\n",
       "      <td>0</td>\n",
       "      <td>1</td>\n",
       "    </tr>\n",
       "    <tr>\n",
       "      <th>6</th>\n",
       "      <td>0</td>\n",
       "      <td>0</td>\n",
       "      <td>1</td>\n",
       "    </tr>\n",
       "    <tr>\n",
       "      <th>7</th>\n",
       "      <td>0</td>\n",
       "      <td>0</td>\n",
       "      <td>1</td>\n",
       "    </tr>\n",
       "    <tr>\n",
       "      <th>8</th>\n",
       "      <td>0</td>\n",
       "      <td>0</td>\n",
       "      <td>1</td>\n",
       "    </tr>\n",
       "    <tr>\n",
       "      <th>9</th>\n",
       "      <td>0</td>\n",
       "      <td>0</td>\n",
       "      <td>1</td>\n",
       "    </tr>\n",
       "    <tr>\n",
       "      <th>10</th>\n",
       "      <td>0</td>\n",
       "      <td>0</td>\n",
       "      <td>1</td>\n",
       "    </tr>\n",
       "  </tbody>\n",
       "</table>\n",
       "</div>"
      ],
      "text/plain": [
       "    HGB  SHGB  SHM\n",
       "0     0     0    1\n",
       "1     0     0    1\n",
       "2     0     0    1\n",
       "3     0     0    1\n",
       "4     0     0    1\n",
       "5     0     0    1\n",
       "6     0     0    1\n",
       "7     0     0    1\n",
       "8     0     0    1\n",
       "9     0     0    1\n",
       "10    0     0    1"
      ]
     },
     "execution_count": 11,
     "metadata": {},
     "output_type": "execute_result"
    }
   ],
   "source": [
    "df = pd.get_dummies(house_fix['surat'])\n",
    "df.head(11)"
   ]
  },
  {
   "cell_type": "markdown",
   "metadata": {
    "id": "THr8-WlUE3sC"
   },
   "source": [
    "# Menggabungkan dengan data awal (concat)"
   ]
  },
  {
   "cell_type": "code",
   "execution_count": 12,
   "metadata": {
    "colab": {
     "base_uri": "https://localhost:8080/",
     "height": 514
    },
    "id": "O9ZL6eyxE3sC",
    "outputId": "fa2cdee9-6d71-4915-afad-631debebe081"
   },
   "outputs": [
    {
     "data": {
      "text/html": [
       "<div>\n",
       "<style scoped>\n",
       "    .dataframe tbody tr th:only-of-type {\n",
       "        vertical-align: middle;\n",
       "    }\n",
       "\n",
       "    .dataframe tbody tr th {\n",
       "        vertical-align: top;\n",
       "    }\n",
       "\n",
       "    .dataframe thead th {\n",
       "        text-align: right;\n",
       "    }\n",
       "</style>\n",
       "<table border=\"1\" class=\"dataframe\">\n",
       "  <thead>\n",
       "    <tr style=\"text-align: right;\">\n",
       "      <th></th>\n",
       "      <th>0</th>\n",
       "      <th>1</th>\n",
       "      <th>2</th>\n",
       "      <th>3</th>\n",
       "      <th>4</th>\n",
       "    </tr>\n",
       "  </thead>\n",
       "  <tbody>\n",
       "    <tr>\n",
       "      <th>Tgl_Iklan</th>\n",
       "      <td>2021-06-04 00:00:00</td>\n",
       "      <td>2021-06-04 00:00:00</td>\n",
       "      <td>2021-06-04 00:00:00</td>\n",
       "      <td>2021-09-04 00:00:00</td>\n",
       "      <td>2021-09-04 00:00:00</td>\n",
       "    </tr>\n",
       "    <tr>\n",
       "      <th>harga</th>\n",
       "      <td>1400000000</td>\n",
       "      <td>3500000000</td>\n",
       "      <td>1850000000</td>\n",
       "      <td>800000000</td>\n",
       "      <td>6000000000</td>\n",
       "    </tr>\n",
       "    <tr>\n",
       "      <th>LT</th>\n",
       "      <td>201</td>\n",
       "      <td>293</td>\n",
       "      <td>300</td>\n",
       "      <td>154</td>\n",
       "      <td>878</td>\n",
       "    </tr>\n",
       "    <tr>\n",
       "      <th>LB</th>\n",
       "      <td>192</td>\n",
       "      <td>58</td>\n",
       "      <td>300</td>\n",
       "      <td>150</td>\n",
       "      <td>700</td>\n",
       "    </tr>\n",
       "    <tr>\n",
       "      <th>KT</th>\n",
       "      <td>3</td>\n",
       "      <td>4</td>\n",
       "      <td>8</td>\n",
       "      <td>2</td>\n",
       "      <td>5</td>\n",
       "    </tr>\n",
       "    <tr>\n",
       "      <th>KM</th>\n",
       "      <td>3</td>\n",
       "      <td>2</td>\n",
       "      <td>6</td>\n",
       "      <td>1</td>\n",
       "      <td>3</td>\n",
       "    </tr>\n",
       "    <tr>\n",
       "      <th>KTP</th>\n",
       "      <td>0</td>\n",
       "      <td>0</td>\n",
       "      <td>0</td>\n",
       "      <td>0</td>\n",
       "      <td>0</td>\n",
       "    </tr>\n",
       "    <tr>\n",
       "      <th>KMP</th>\n",
       "      <td>0</td>\n",
       "      <td>0</td>\n",
       "      <td>0</td>\n",
       "      <td>0</td>\n",
       "      <td>0</td>\n",
       "    </tr>\n",
       "    <tr>\n",
       "      <th>carport</th>\n",
       "      <td>1</td>\n",
       "      <td>1</td>\n",
       "      <td>1</td>\n",
       "      <td>1</td>\n",
       "      <td>1</td>\n",
       "    </tr>\n",
       "    <tr>\n",
       "      <th>garasi</th>\n",
       "      <td>1</td>\n",
       "      <td>0</td>\n",
       "      <td>1</td>\n",
       "      <td>0</td>\n",
       "      <td>1</td>\n",
       "    </tr>\n",
       "    <tr>\n",
       "      <th>listrik</th>\n",
       "      <td>2200</td>\n",
       "      <td>5000</td>\n",
       "      <td>1300</td>\n",
       "      <td>2200</td>\n",
       "      <td>1300</td>\n",
       "    </tr>\n",
       "    <tr>\n",
       "      <th>surat</th>\n",
       "      <td>SHM</td>\n",
       "      <td>SHM</td>\n",
       "      <td>SHM</td>\n",
       "      <td>SHM</td>\n",
       "      <td>SHM</td>\n",
       "    </tr>\n",
       "    <tr>\n",
       "      <th>HGB</th>\n",
       "      <td>0</td>\n",
       "      <td>0</td>\n",
       "      <td>0</td>\n",
       "      <td>0</td>\n",
       "      <td>0</td>\n",
       "    </tr>\n",
       "    <tr>\n",
       "      <th>SHGB</th>\n",
       "      <td>0</td>\n",
       "      <td>0</td>\n",
       "      <td>0</td>\n",
       "      <td>0</td>\n",
       "      <td>0</td>\n",
       "    </tr>\n",
       "    <tr>\n",
       "      <th>SHM</th>\n",
       "      <td>1</td>\n",
       "      <td>1</td>\n",
       "      <td>1</td>\n",
       "      <td>1</td>\n",
       "      <td>1</td>\n",
       "    </tr>\n",
       "  </tbody>\n",
       "</table>\n",
       "</div>"
      ],
      "text/plain": [
       "                             0                    1                    2  \\\n",
       "Tgl_Iklan  2021-06-04 00:00:00  2021-06-04 00:00:00  2021-06-04 00:00:00   \n",
       "harga               1400000000           3500000000           1850000000   \n",
       "LT                         201                  293                  300   \n",
       "LB                         192                   58                  300   \n",
       "KT                           3                    4                    8   \n",
       "KM                           3                    2                    6   \n",
       "KTP                          0                    0                    0   \n",
       "KMP                          0                    0                    0   \n",
       "carport                      1                    1                    1   \n",
       "garasi                       1                    0                    1   \n",
       "listrik                   2200                 5000                 1300   \n",
       "surat                      SHM                  SHM                  SHM   \n",
       "HGB                          0                    0                    0   \n",
       "SHGB                         0                    0                    0   \n",
       "SHM                          1                    1                    1   \n",
       "\n",
       "                             3                    4  \n",
       "Tgl_Iklan  2021-09-04 00:00:00  2021-09-04 00:00:00  \n",
       "harga                800000000           6000000000  \n",
       "LT                         154                  878  \n",
       "LB                         150                  700  \n",
       "KT                           2                    5  \n",
       "KM                           1                    3  \n",
       "KTP                          0                    0  \n",
       "KMP                          0                    0  \n",
       "carport                      1                    1  \n",
       "garasi                       0                    1  \n",
       "listrik                   2200                 1300  \n",
       "surat                      SHM                  SHM  \n",
       "HGB                          0                    0  \n",
       "SHGB                         0                    0  \n",
       "SHM                          1                    1  "
      ]
     },
     "execution_count": 12,
     "metadata": {},
     "output_type": "execute_result"
    }
   ],
   "source": [
    "df2 = pd.concat([house_fix, df], axis = 1)\n",
    "df2.head().transpose()"
   ]
  },
  {
   "cell_type": "markdown",
   "metadata": {
    "id": "Tchltp_OE3sD"
   },
   "source": [
    "# Outliers"
   ]
  },
  {
   "cell_type": "markdown",
   "metadata": {
    "id": "Lgx9Rs-sE3sD"
   },
   "source": [
    "## visualisasi"
   ]
  },
  {
   "cell_type": "code",
   "execution_count": 13,
   "metadata": {
    "colab": {
     "base_uri": "https://localhost:8080/",
     "height": 333
    },
    "id": "tfeSxvpBE3sE",
    "outputId": "9c379135-0064-4e07-8aef-9603a8324913",
    "scrolled": true
   },
   "outputs": [
    {
     "data": {
      "image/png": "[encoded data removed]",
      "text/plain": [
       "<Figure size 432x288 with 1 Axes>"
      ]
     },
     "metadata": {
      "needs_background": "light"
     },
     "output_type": "display_data"
    }
   ],
   "source": [
    "sns.boxplot('harga', data=house_fix);"
   ]
  },
  {
   "cell_type": "markdown",
   "metadata": {
    "id": "5wnN_8dkE3sG"
   },
   "source": [
    "#### Dari visualisasi berikut dapat dilihat terdapat beberapa outlier yang jauh dari variabel harga"
   ]
  },
  {
   "cell_type": "code",
   "execution_count": 14,
   "metadata": {
    "colab": {
     "base_uri": "https://localhost:8080/",
     "height": 401
    },
    "id": "guwHnOIFMOZo",
    "outputId": "83cf9323-156b-4390-bf02-16b85754199d"
   },
   "outputs": [
    {
     "data": {
      "image/png": "[encoded data removed]",
      "text/plain": [
       "<Figure size 432x288 with 1 Axes>"
      ]
     },
     "metadata": {
      "needs_background": "light"
     },
     "output_type": "display_data"
    }
   ],
   "source": [
    "# Distributions\n",
    "p = sns.distplot(house_fix['harga'], kde=True, rug=True)"
   ]
  },
  {
   "cell_type": "code",
   "execution_count": 16,
   "metadata": {
    "colab": {
     "base_uri": "https://localhost:8080/"
    },
    "id": "JJd_DKBlNbO-",
    "outputId": "7ad18032-5650-401a-d9c3-3d9337f26aea"
   },
   "outputs": [
    {
     "name": "stdout",
     "output_type": "stream",
     "text": [
      "(100,)\n"
     ]
    },
    {
     "data": {
      "text/plain": [
       "0     True\n",
       "1     True\n",
       "2     True\n",
       "3     True\n",
       "4    False\n",
       "Name: harga, dtype: bool"
      ]
     },
     "execution_count": 16,
     "metadata": {},
     "output_type": "execute_result"
    }
   ],
   "source": [
    "df = np.abs(house_fix.harga - house_fix.harga.mean())<=(2*house_fix.harga.std())\n",
    "# mu-2s<x<mu+2s\n",
    "print(df.shape)\n",
    "df.head()"
   ]
  },
  {
   "cell_type": "code",
   "execution_count": 17,
   "metadata": {
    "colab": {
     "base_uri": "https://localhost:8080/"
    },
    "id": "mds33OOMN5xg",
    "outputId": "ee8eb575-5906-49b8-a1f8-f644e8496a44"
   },
   "outputs": [
    {
     "name": "stdout",
     "output_type": "stream",
     "text": [
      "(92, 12) (100, 12)\n"
     ]
    }
   ],
   "source": [
    "house_fix2 = house_fix[df] # Data tanpa outliers\n",
    "print(house_fix2.shape, house_fix.shape)"
   ]
  },
  {
   "cell_type": "code",
   "execution_count": 18,
   "metadata": {
    "colab": {
     "base_uri": "https://localhost:8080/",
     "height": 279
    },
    "id": "Wu-0_3_8Oyus",
    "outputId": "1f415234-2b11-46c1-8429-893d35eda729",
    "scrolled": false
   },
   "outputs": [
    {
     "data": {
      "image/png": "[encoded data removed]",
      "text/plain": [
       "<Figure size 432x288 with 1 Axes>"
      ]
     },
     "metadata": {
      "needs_background": "light"
     },
     "output_type": "display_data"
    }
   ],
   "source": [
    "p = sns.boxplot(x=\"harga\", data=house_fix2)"
   ]
  },
  {
   "cell_type": "markdown",
   "metadata": {},
   "source": [
    "#### Setelah memakai metode diatas outliers sudah mulai berkurang/ tidak terlihat banyak lagi"
   ]
  },
  {
   "cell_type": "markdown",
   "metadata": {
    "id": "stloraz4E3sI"
   },
   "source": [
    "# Missing Values"
   ]
  },
  {
   "cell_type": "code",
   "execution_count": 19,
   "metadata": {
    "colab": {
     "base_uri": "https://localhost:8080/"
    },
    "id": "CtYXsFKFE3sM",
    "outputId": "c1eafb3f-55aa-4aa6-8bf6-417d2ae27188"
   },
   "outputs": [
    {
     "name": "stdout",
     "output_type": "stream",
     "text": [
      "Tgl_Iklan    0\n",
      "harga        0\n",
      "LT           0\n",
      "LB           0\n",
      "KT           0\n",
      "KM           0\n",
      "KTP          0\n",
      "KMP          0\n",
      "carport      0\n",
      "garasi       0\n",
      "listrik      0\n",
      "surat        0\n",
      "dtype: int64\n"
     ]
    }
   ],
   "source": [
    "print(house_fix.isnull().sum())"
   ]
  },
  {
   "cell_type": "markdown",
   "metadata": {
    "id": "X_pEqjplE3sN"
   },
   "source": [
    "#### tidak terdapat missing values pada data yang diinput"
   ]
  },
  {
   "cell_type": "markdown",
   "metadata": {
    "id": "4kXL3wqLE3sO"
   },
   "source": [
    "# Keragaman Data"
   ]
  },
  {
   "cell_type": "markdown",
   "metadata": {
    "id": "yav57xSXE3sO"
   },
   "source": [
    "## Statistika Deskriptif"
   ]
  },
  {
   "cell_type": "code",
   "execution_count": 20,
   "metadata": {
    "colab": {
     "base_uri": "https://localhost:8080/",
     "height": 297
    },
    "id": "8FSZEdfbE3sP",
    "outputId": "225f9f51-bc36-42d9-9977-b71548862f05"
   },
   "outputs": [
    {
     "data": {
      "text/html": [
       "<div>\n",
       "<style scoped>\n",
       "    .dataframe tbody tr th:only-of-type {\n",
       "        vertical-align: middle;\n",
       "    }\n",
       "\n",
       "    .dataframe tbody tr th {\n",
       "        vertical-align: top;\n",
       "    }\n",
       "\n",
       "    .dataframe thead th {\n",
       "        text-align: right;\n",
       "    }\n",
       "</style>\n",
       "<table border=\"1\" class=\"dataframe\">\n",
       "  <thead>\n",
       "    <tr style=\"text-align: right;\">\n",
       "      <th></th>\n",
       "      <th>harga</th>\n",
       "      <th>LT</th>\n",
       "      <th>LB</th>\n",
       "      <th>KT</th>\n",
       "      <th>KM</th>\n",
       "      <th>KTP</th>\n",
       "      <th>KMP</th>\n",
       "      <th>carport</th>\n",
       "      <th>garasi</th>\n",
       "      <th>listrik</th>\n",
       "    </tr>\n",
       "  </thead>\n",
       "  <tbody>\n",
       "    <tr>\n",
       "      <th>count</th>\n",
       "      <td>1.000000e+02</td>\n",
       "      <td>100.000000</td>\n",
       "      <td>100.000000</td>\n",
       "      <td>100.000000</td>\n",
       "      <td>100.000000</td>\n",
       "      <td>100.000000</td>\n",
       "      <td>100.00</td>\n",
       "      <td>100.000000</td>\n",
       "      <td>100.000000</td>\n",
       "      <td>100.00000</td>\n",
       "    </tr>\n",
       "    <tr>\n",
       "      <th>mean</th>\n",
       "      <td>1.803450e+09</td>\n",
       "      <td>250.330000</td>\n",
       "      <td>193.450000</td>\n",
       "      <td>3.910000</td>\n",
       "      <td>3.210000</td>\n",
       "      <td>0.020000</td>\n",
       "      <td>0.01</td>\n",
       "      <td>0.840000</td>\n",
       "      <td>0.230000</td>\n",
       "      <td>2334.00000</td>\n",
       "    </tr>\n",
       "    <tr>\n",
       "      <th>std</th>\n",
       "      <td>2.038498e+09</td>\n",
       "      <td>230.263707</td>\n",
       "      <td>204.692051</td>\n",
       "      <td>4.211804</td>\n",
       "      <td>4.723239</td>\n",
       "      <td>0.140705</td>\n",
       "      <td>0.10</td>\n",
       "      <td>1.220366</td>\n",
       "      <td>0.708605</td>\n",
       "      <td>2260.07151</td>\n",
       "    </tr>\n",
       "    <tr>\n",
       "      <th>min</th>\n",
       "      <td>1.440000e+08</td>\n",
       "      <td>60.000000</td>\n",
       "      <td>36.000000</td>\n",
       "      <td>1.000000</td>\n",
       "      <td>1.000000</td>\n",
       "      <td>0.000000</td>\n",
       "      <td>0.00</td>\n",
       "      <td>0.000000</td>\n",
       "      <td>0.000000</td>\n",
       "      <td>0.00000</td>\n",
       "    </tr>\n",
       "    <tr>\n",
       "      <th>25%</th>\n",
       "      <td>6.500000e+08</td>\n",
       "      <td>108.000000</td>\n",
       "      <td>78.750000</td>\n",
       "      <td>2.000000</td>\n",
       "      <td>1.750000</td>\n",
       "      <td>0.000000</td>\n",
       "      <td>0.00</td>\n",
       "      <td>0.000000</td>\n",
       "      <td>0.000000</td>\n",
       "      <td>1300.00000</td>\n",
       "    </tr>\n",
       "    <tr>\n",
       "      <th>50%</th>\n",
       "      <td>1.175000e+09</td>\n",
       "      <td>164.000000</td>\n",
       "      <td>140.000000</td>\n",
       "      <td>3.000000</td>\n",
       "      <td>2.000000</td>\n",
       "      <td>0.000000</td>\n",
       "      <td>0.00</td>\n",
       "      <td>1.000000</td>\n",
       "      <td>0.000000</td>\n",
       "      <td>2200.00000</td>\n",
       "    </tr>\n",
       "    <tr>\n",
       "      <th>75%</th>\n",
       "      <td>2.000000e+09</td>\n",
       "      <td>300.000000</td>\n",
       "      <td>221.000000</td>\n",
       "      <td>4.000000</td>\n",
       "      <td>3.000000</td>\n",
       "      <td>0.000000</td>\n",
       "      <td>0.00</td>\n",
       "      <td>1.000000</td>\n",
       "      <td>0.000000</td>\n",
       "      <td>2200.00000</td>\n",
       "    </tr>\n",
       "    <tr>\n",
       "      <th>max</th>\n",
       "      <td>1.200000e+10</td>\n",
       "      <td>1237.000000</td>\n",
       "      <td>1500.000000</td>\n",
       "      <td>40.000000</td>\n",
       "      <td>40.000000</td>\n",
       "      <td>1.000000</td>\n",
       "      <td>1.00</td>\n",
       "      <td>10.000000</td>\n",
       "      <td>6.000000</td>\n",
       "      <td>22000.00000</td>\n",
       "    </tr>\n",
       "  </tbody>\n",
       "</table>\n",
       "</div>"
      ],
      "text/plain": [
       "              harga           LT           LB          KT          KM  \\\n",
       "count  1.000000e+02   100.000000   100.000000  100.000000  100.000000   \n",
       "mean   1.803450e+09   250.330000   193.450000    3.910000    3.210000   \n",
       "std    2.038498e+09   230.263707   204.692051    4.211804    4.723239   \n",
       "min    1.440000e+08    60.000000    36.000000    1.000000    1.000000   \n",
       "25%    6.500000e+08   108.000000    78.750000    2.000000    1.750000   \n",
       "50%    1.175000e+09   164.000000   140.000000    3.000000    2.000000   \n",
       "75%    2.000000e+09   300.000000   221.000000    4.000000    3.000000   \n",
       "max    1.200000e+10  1237.000000  1500.000000   40.000000   40.000000   \n",
       "\n",
       "              KTP     KMP     carport      garasi      listrik  \n",
       "count  100.000000  100.00  100.000000  100.000000    100.00000  \n",
       "mean     0.020000    0.01    0.840000    0.230000   2334.00000  \n",
       "std      0.140705    0.10    1.220366    0.708605   2260.07151  \n",
       "min      0.000000    0.00    0.000000    0.000000      0.00000  \n",
       "25%      0.000000    0.00    0.000000    0.000000   1300.00000  \n",
       "50%      0.000000    0.00    1.000000    0.000000   2200.00000  \n",
       "75%      0.000000    0.00    1.000000    0.000000   2200.00000  \n",
       "max      1.000000    1.00   10.000000    6.000000  22000.00000  "
      ]
     },
     "execution_count": 20,
     "metadata": {},
     "output_type": "execute_result"
    }
   ],
   "source": [
    "house_fix.describe()"
   ]
  },
  {
   "cell_type": "code",
   "execution_count": 21,
   "metadata": {
    "colab": {
     "base_uri": "https://localhost:8080/",
     "height": 506
    },
    "id": "UvNgghpCE3sP",
    "outputId": "b29189ef-d6c3-45f5-dbbc-72aba02f3a47"
   },
   "outputs": [
    {
     "data": {
      "text/html": [
       "<div>\n",
       "<style scoped>\n",
       "    .dataframe tbody tr th:only-of-type {\n",
       "        vertical-align: middle;\n",
       "    }\n",
       "\n",
       "    .dataframe tbody tr th {\n",
       "        vertical-align: top;\n",
       "    }\n",
       "\n",
       "    .dataframe thead th {\n",
       "        text-align: right;\n",
       "    }\n",
       "</style>\n",
       "<table border=\"1\" class=\"dataframe\">\n",
       "  <thead>\n",
       "    <tr style=\"text-align: right;\">\n",
       "      <th></th>\n",
       "      <th>Tgl_Iklan</th>\n",
       "      <th>harga</th>\n",
       "      <th>LT</th>\n",
       "      <th>LB</th>\n",
       "      <th>KT</th>\n",
       "      <th>KM</th>\n",
       "      <th>KTP</th>\n",
       "      <th>KMP</th>\n",
       "      <th>carport</th>\n",
       "      <th>garasi</th>\n",
       "      <th>listrik</th>\n",
       "      <th>surat</th>\n",
       "    </tr>\n",
       "  </thead>\n",
       "  <tbody>\n",
       "    <tr>\n",
       "      <th>count</th>\n",
       "      <td>100</td>\n",
       "      <td>1.000000e+02</td>\n",
       "      <td>100.000000</td>\n",
       "      <td>100.000000</td>\n",
       "      <td>100.000000</td>\n",
       "      <td>100.000000</td>\n",
       "      <td>100.000000</td>\n",
       "      <td>100.00</td>\n",
       "      <td>100.000000</td>\n",
       "      <td>100.000000</td>\n",
       "      <td>100.00000</td>\n",
       "      <td>100</td>\n",
       "    </tr>\n",
       "    <tr>\n",
       "      <th>unique</th>\n",
       "      <td>47</td>\n",
       "      <td>NaN</td>\n",
       "      <td>NaN</td>\n",
       "      <td>NaN</td>\n",
       "      <td>NaN</td>\n",
       "      <td>NaN</td>\n",
       "      <td>NaN</td>\n",
       "      <td>NaN</td>\n",
       "      <td>NaN</td>\n",
       "      <td>NaN</td>\n",
       "      <td>NaN</td>\n",
       "      <td>3</td>\n",
       "    </tr>\n",
       "    <tr>\n",
       "      <th>top</th>\n",
       "      <td>2021-07-04 00:00:00</td>\n",
       "      <td>NaN</td>\n",
       "      <td>NaN</td>\n",
       "      <td>NaN</td>\n",
       "      <td>NaN</td>\n",
       "      <td>NaN</td>\n",
       "      <td>NaN</td>\n",
       "      <td>NaN</td>\n",
       "      <td>NaN</td>\n",
       "      <td>NaN</td>\n",
       "      <td>NaN</td>\n",
       "      <td>SHM</td>\n",
       "    </tr>\n",
       "    <tr>\n",
       "      <th>freq</th>\n",
       "      <td>8</td>\n",
       "      <td>NaN</td>\n",
       "      <td>NaN</td>\n",
       "      <td>NaN</td>\n",
       "      <td>NaN</td>\n",
       "      <td>NaN</td>\n",
       "      <td>NaN</td>\n",
       "      <td>NaN</td>\n",
       "      <td>NaN</td>\n",
       "      <td>NaN</td>\n",
       "      <td>NaN</td>\n",
       "      <td>97</td>\n",
       "    </tr>\n",
       "    <tr>\n",
       "      <th>first</th>\n",
       "      <td>2017-12-05 00:00:00</td>\n",
       "      <td>NaN</td>\n",
       "      <td>NaN</td>\n",
       "      <td>NaN</td>\n",
       "      <td>NaN</td>\n",
       "      <td>NaN</td>\n",
       "      <td>NaN</td>\n",
       "      <td>NaN</td>\n",
       "      <td>NaN</td>\n",
       "      <td>NaN</td>\n",
       "      <td>NaN</td>\n",
       "      <td>NaN</td>\n",
       "    </tr>\n",
       "    <tr>\n",
       "      <th>last</th>\n",
       "      <td>2021-12-04 00:00:00</td>\n",
       "      <td>NaN</td>\n",
       "      <td>NaN</td>\n",
       "      <td>NaN</td>\n",
       "      <td>NaN</td>\n",
       "      <td>NaN</td>\n",
       "      <td>NaN</td>\n",
       "      <td>NaN</td>\n",
       "      <td>NaN</td>\n",
       "      <td>NaN</td>\n",
       "      <td>NaN</td>\n",
       "      <td>NaN</td>\n",
       "    </tr>\n",
       "    <tr>\n",
       "      <th>mean</th>\n",
       "      <td>NaN</td>\n",
       "      <td>1.803450e+09</td>\n",
       "      <td>250.330000</td>\n",
       "      <td>193.450000</td>\n",
       "      <td>3.910000</td>\n",
       "      <td>3.210000</td>\n",
       "      <td>0.020000</td>\n",
       "      <td>0.01</td>\n",
       "      <td>0.840000</td>\n",
       "      <td>0.230000</td>\n",
       "      <td>2334.00000</td>\n",
       "      <td>NaN</td>\n",
       "    </tr>\n",
       "    <tr>\n",
       "      <th>std</th>\n",
       "      <td>NaN</td>\n",
       "      <td>2.038498e+09</td>\n",
       "      <td>230.263707</td>\n",
       "      <td>204.692051</td>\n",
       "      <td>4.211804</td>\n",
       "      <td>4.723239</td>\n",
       "      <td>0.140705</td>\n",
       "      <td>0.10</td>\n",
       "      <td>1.220366</td>\n",
       "      <td>0.708605</td>\n",
       "      <td>2260.07151</td>\n",
       "      <td>NaN</td>\n",
       "    </tr>\n",
       "    <tr>\n",
       "      <th>min</th>\n",
       "      <td>NaN</td>\n",
       "      <td>1.440000e+08</td>\n",
       "      <td>60.000000</td>\n",
       "      <td>36.000000</td>\n",
       "      <td>1.000000</td>\n",
       "      <td>1.000000</td>\n",
       "      <td>0.000000</td>\n",
       "      <td>0.00</td>\n",
       "      <td>0.000000</td>\n",
       "      <td>0.000000</td>\n",
       "      <td>0.00000</td>\n",
       "      <td>NaN</td>\n",
       "    </tr>\n",
       "    <tr>\n",
       "      <th>25%</th>\n",
       "      <td>NaN</td>\n",
       "      <td>6.500000e+08</td>\n",
       "      <td>108.000000</td>\n",
       "      <td>78.750000</td>\n",
       "      <td>2.000000</td>\n",
       "      <td>1.750000</td>\n",
       "      <td>0.000000</td>\n",
       "      <td>0.00</td>\n",
       "      <td>0.000000</td>\n",
       "      <td>0.000000</td>\n",
       "      <td>1300.00000</td>\n",
       "      <td>NaN</td>\n",
       "    </tr>\n",
       "    <tr>\n",
       "      <th>50%</th>\n",
       "      <td>NaN</td>\n",
       "      <td>1.175000e+09</td>\n",
       "      <td>164.000000</td>\n",
       "      <td>140.000000</td>\n",
       "      <td>3.000000</td>\n",
       "      <td>2.000000</td>\n",
       "      <td>0.000000</td>\n",
       "      <td>0.00</td>\n",
       "      <td>1.000000</td>\n",
       "      <td>0.000000</td>\n",
       "      <td>2200.00000</td>\n",
       "      <td>NaN</td>\n",
       "    </tr>\n",
       "    <tr>\n",
       "      <th>75%</th>\n",
       "      <td>NaN</td>\n",
       "      <td>2.000000e+09</td>\n",
       "      <td>300.000000</td>\n",
       "      <td>221.000000</td>\n",
       "      <td>4.000000</td>\n",
       "      <td>3.000000</td>\n",
       "      <td>0.000000</td>\n",
       "      <td>0.00</td>\n",
       "      <td>1.000000</td>\n",
       "      <td>0.000000</td>\n",
       "      <td>2200.00000</td>\n",
       "      <td>NaN</td>\n",
       "    </tr>\n",
       "    <tr>\n",
       "      <th>max</th>\n",
       "      <td>NaN</td>\n",
       "      <td>1.200000e+10</td>\n",
       "      <td>1237.000000</td>\n",
       "      <td>1500.000000</td>\n",
       "      <td>40.000000</td>\n",
       "      <td>40.000000</td>\n",
       "      <td>1.000000</td>\n",
       "      <td>1.00</td>\n",
       "      <td>10.000000</td>\n",
       "      <td>6.000000</td>\n",
       "      <td>22000.00000</td>\n",
       "      <td>NaN</td>\n",
       "    </tr>\n",
       "  </tbody>\n",
       "</table>\n",
       "</div>"
      ],
      "text/plain": [
       "                  Tgl_Iklan         harga           LT           LB  \\\n",
       "count                   100  1.000000e+02   100.000000   100.000000   \n",
       "unique                   47           NaN          NaN          NaN   \n",
       "top     2021-07-04 00:00:00           NaN          NaN          NaN   \n",
       "freq                      8           NaN          NaN          NaN   \n",
       "first   2017-12-05 00:00:00           NaN          NaN          NaN   \n",
       "last    2021-12-04 00:00:00           NaN          NaN          NaN   \n",
       "mean                    NaN  1.803450e+09   250.330000   193.450000   \n",
       "std                     NaN  2.038498e+09   230.263707   204.692051   \n",
       "min                     NaN  1.440000e+08    60.000000    36.000000   \n",
       "25%                     NaN  6.500000e+08   108.000000    78.750000   \n",
       "50%                     NaN  1.175000e+09   164.000000   140.000000   \n",
       "75%                     NaN  2.000000e+09   300.000000   221.000000   \n",
       "max                     NaN  1.200000e+10  1237.000000  1500.000000   \n",
       "\n",
       "                KT          KM         KTP     KMP     carport      garasi  \\\n",
       "count   100.000000  100.000000  100.000000  100.00  100.000000  100.000000   \n",
       "unique         NaN         NaN         NaN     NaN         NaN         NaN   \n",
       "top            NaN         NaN         NaN     NaN         NaN         NaN   \n",
       "freq           NaN         NaN         NaN     NaN         NaN         NaN   \n",
       "first          NaN         NaN         NaN     NaN         NaN         NaN   \n",
       "last           NaN         NaN         NaN     NaN         NaN         NaN   \n",
       "mean      3.910000    3.210000    0.020000    0.01    0.840000    0.230000   \n",
       "std       4.211804    4.723239    0.140705    0.10    1.220366    0.708605   \n",
       "min       1.000000    1.000000    0.000000    0.00    0.000000    0.000000   \n",
       "25%       2.000000    1.750000    0.000000    0.00    0.000000    0.000000   \n",
       "50%       3.000000    2.000000    0.000000    0.00    1.000000    0.000000   \n",
       "75%       4.000000    3.000000    0.000000    0.00    1.000000    0.000000   \n",
       "max      40.000000   40.000000    1.000000    1.00   10.000000    6.000000   \n",
       "\n",
       "            listrik surat  \n",
       "count     100.00000   100  \n",
       "unique          NaN     3  \n",
       "top             NaN   SHM  \n",
       "freq            NaN    97  \n",
       "first           NaN   NaN  \n",
       "last            NaN   NaN  \n",
       "mean     2334.00000   NaN  \n",
       "std      2260.07151   NaN  \n",
       "min         0.00000   NaN  \n",
       "25%      1300.00000   NaN  \n",
       "50%      2200.00000   NaN  \n",
       "75%      2200.00000   NaN  \n",
       "max     22000.00000   NaN  "
      ]
     },
     "execution_count": 21,
     "metadata": {},
     "output_type": "execute_result"
    }
   ],
   "source": [
    "#statistika sederhana dari semua variabelnya\n",
    "house_fix.describe(include='all')"
   ]
  },
  {
   "cell_type": "markdown",
   "metadata": {
    "id": "k8JuoytRE3sQ"
   },
   "source": [
    "# Distribusi Nilai pada setiap variabel kategorik"
   ]
  },
  {
   "cell_type": "code",
   "execution_count": 22,
   "metadata": {
    "colab": {
     "base_uri": "https://localhost:8080/"
    },
    "id": "A4rDOoyKE3sR",
    "outputId": "2445c0aa-fc25-45a9-9bd3-129127f62d82"
   },
   "outputs": [
    {
     "name": "stdout",
     "output_type": "stream",
     "text": [
      "surat :  {'HGB', 'SHGB', 'SHM'}\n"
     ]
    }
   ],
   "source": [
    "# mengaskses semua variabel uniknya\n",
    "for col in price_cat.columns:\n",
    "    print(col,': ', set(house_price[col].unique()))"
   ]
  },
  {
   "cell_type": "code",
   "execution_count": 23,
   "metadata": {
    "colab": {
     "base_uri": "https://localhost:8080/"
    },
    "id": "D2rQ9zNEE3sR",
    "outputId": "4c3324bb-b18a-43ad-d16d-2a6e54ccdf1c"
   },
   "outputs": [
    {
     "data": {
      "text/plain": [
       "array([ 1400000000,  3500000000,  1850000000,   800000000,  6000000000,\n",
       "        1600000000,  1200000000,   400000000,   850000000,  1800000000,\n",
       "        2500000000,   425000000,   550000000,  1300000000,  2074000000,\n",
       "         650000000,   930000000, 10000000000,  1450000000,   390000000,\n",
       "        1353000000,  1795000000,  1150000000,  2400000000,  2000000000,\n",
       "         980000000,  7000000000,   275000000,  3000000000, 12000000000,\n",
       "        2700000000,  1500000000,  1700000000,   585000000,   700000000,\n",
       "         675000000,  5990000000,  1000000000,  3200000000,  6980000000,\n",
       "        1750000000,  2100000000,   900000000,  6500000000,   500000000,\n",
       "        8000000000,   350000000,  1900000000,  2200000000,   370000000,\n",
       "         450000000,   775000000,  3300000000,   950000000,   455000000,\n",
       "         600000000,  3480000000,   694000000,   975000000,  1350000000,\n",
       "         144000000,   430000000,   345000000,   360000000,   820000000],\n",
       "      dtype=int64)"
      ]
     },
     "execution_count": 23,
     "metadata": {},
     "output_type": "execute_result"
    }
   ],
   "source": [
    "house_price['harga'].unique()"
   ]
  },
  {
   "cell_type": "code",
   "execution_count": 24,
   "metadata": {
    "colab": {
     "base_uri": "https://localhost:8080/"
    },
    "id": "bil6q1V0E3sS",
    "outputId": "2e5ab059-504e-4131-b919-906f44d8910b"
   },
   "outputs": [
    {
     "data": {
      "text/plain": [
       "SHM     97\n",
       "HGB      2\n",
       "SHGB     1\n",
       "Name: surat, dtype: int64"
      ]
     },
     "execution_count": 24,
     "metadata": {},
     "output_type": "execute_result"
    }
   ],
   "source": [
    "#distribusi tiap data\n",
    "house_fix['surat'].value_counts()"
   ]
  },
  {
   "cell_type": "markdown",
   "metadata": {
    "id": "hyJAQSFwE3sT"
   },
   "source": [
    "# Data Grouping"
   ]
  },
  {
   "cell_type": "code",
   "execution_count": 25,
   "metadata": {
    "colab": {
     "base_uri": "https://localhost:8080/",
     "height": 297
    },
    "id": "WdRrwThNE3sT",
    "outputId": "e7232332-a7a5-4af4-e044-c1ab74c0d26c"
   },
   "outputs": [
    {
     "data": {
      "text/html": [
       "<div>\n",
       "<style scoped>\n",
       "    .dataframe tbody tr th:only-of-type {\n",
       "        vertical-align: middle;\n",
       "    }\n",
       "\n",
       "    .dataframe tbody tr th {\n",
       "        vertical-align: top;\n",
       "    }\n",
       "\n",
       "    .dataframe thead th {\n",
       "        text-align: right;\n",
       "    }\n",
       "</style>\n",
       "<table border=\"1\" class=\"dataframe\">\n",
       "  <thead>\n",
       "    <tr style=\"text-align: right;\">\n",
       "      <th></th>\n",
       "      <th>harga</th>\n",
       "      <th>LT</th>\n",
       "      <th>LB</th>\n",
       "      <th>KT</th>\n",
       "      <th>KM</th>\n",
       "      <th>KTP</th>\n",
       "      <th>KMP</th>\n",
       "      <th>carport</th>\n",
       "      <th>garasi</th>\n",
       "      <th>listrik</th>\n",
       "    </tr>\n",
       "  </thead>\n",
       "  <tbody>\n",
       "    <tr>\n",
       "      <th>count</th>\n",
       "      <td>9.700000e+01</td>\n",
       "      <td>97.000000</td>\n",
       "      <td>97.000000</td>\n",
       "      <td>97.000000</td>\n",
       "      <td>97.000000</td>\n",
       "      <td>97.000000</td>\n",
       "      <td>97.000000</td>\n",
       "      <td>97.000000</td>\n",
       "      <td>97.000000</td>\n",
       "      <td>97.000000</td>\n",
       "    </tr>\n",
       "    <tr>\n",
       "      <th>mean</th>\n",
       "      <td>1.816464e+09</td>\n",
       "      <td>254.525773</td>\n",
       "      <td>196.835052</td>\n",
       "      <td>3.938144</td>\n",
       "      <td>3.226804</td>\n",
       "      <td>0.020619</td>\n",
       "      <td>0.010309</td>\n",
       "      <td>0.845361</td>\n",
       "      <td>0.237113</td>\n",
       "      <td>2338.144330</td>\n",
       "    </tr>\n",
       "    <tr>\n",
       "      <th>std</th>\n",
       "      <td>2.067928e+09</td>\n",
       "      <td>232.490685</td>\n",
       "      <td>206.917691</td>\n",
       "      <td>4.271549</td>\n",
       "      <td>4.790410</td>\n",
       "      <td>0.142842</td>\n",
       "      <td>0.101535</td>\n",
       "      <td>1.236091</td>\n",
       "      <td>0.718407</td>\n",
       "      <td>2294.987441</td>\n",
       "    </tr>\n",
       "    <tr>\n",
       "      <th>min</th>\n",
       "      <td>1.440000e+08</td>\n",
       "      <td>60.000000</td>\n",
       "      <td>36.000000</td>\n",
       "      <td>1.000000</td>\n",
       "      <td>1.000000</td>\n",
       "      <td>0.000000</td>\n",
       "      <td>0.000000</td>\n",
       "      <td>0.000000</td>\n",
       "      <td>0.000000</td>\n",
       "      <td>0.000000</td>\n",
       "    </tr>\n",
       "    <tr>\n",
       "      <th>25%</th>\n",
       "      <td>6.500000e+08</td>\n",
       "      <td>109.000000</td>\n",
       "      <td>80.000000</td>\n",
       "      <td>2.000000</td>\n",
       "      <td>2.000000</td>\n",
       "      <td>0.000000</td>\n",
       "      <td>0.000000</td>\n",
       "      <td>0.000000</td>\n",
       "      <td>0.000000</td>\n",
       "      <td>1300.000000</td>\n",
       "    </tr>\n",
       "    <tr>\n",
       "      <th>50%</th>\n",
       "      <td>1.150000e+09</td>\n",
       "      <td>170.000000</td>\n",
       "      <td>144.000000</td>\n",
       "      <td>3.000000</td>\n",
       "      <td>2.000000</td>\n",
       "      <td>0.000000</td>\n",
       "      <td>0.000000</td>\n",
       "      <td>1.000000</td>\n",
       "      <td>0.000000</td>\n",
       "      <td>2200.000000</td>\n",
       "    </tr>\n",
       "    <tr>\n",
       "      <th>75%</th>\n",
       "      <td>2.000000e+09</td>\n",
       "      <td>300.000000</td>\n",
       "      <td>230.000000</td>\n",
       "      <td>4.000000</td>\n",
       "      <td>3.000000</td>\n",
       "      <td>0.000000</td>\n",
       "      <td>0.000000</td>\n",
       "      <td>1.000000</td>\n",
       "      <td>0.000000</td>\n",
       "      <td>2200.000000</td>\n",
       "    </tr>\n",
       "    <tr>\n",
       "      <th>max</th>\n",
       "      <td>1.200000e+10</td>\n",
       "      <td>1237.000000</td>\n",
       "      <td>1500.000000</td>\n",
       "      <td>40.000000</td>\n",
       "      <td>40.000000</td>\n",
       "      <td>1.000000</td>\n",
       "      <td>1.000000</td>\n",
       "      <td>10.000000</td>\n",
       "      <td>6.000000</td>\n",
       "      <td>22000.000000</td>\n",
       "    </tr>\n",
       "  </tbody>\n",
       "</table>\n",
       "</div>"
      ],
      "text/plain": [
       "              harga           LT           LB         KT         KM  \\\n",
       "count  9.700000e+01    97.000000    97.000000  97.000000  97.000000   \n",
       "mean   1.816464e+09   254.525773   196.835052   3.938144   3.226804   \n",
       "std    2.067928e+09   232.490685   206.917691   4.271549   4.790410   \n",
       "min    1.440000e+08    60.000000    36.000000   1.000000   1.000000   \n",
       "25%    6.500000e+08   109.000000    80.000000   2.000000   2.000000   \n",
       "50%    1.150000e+09   170.000000   144.000000   3.000000   2.000000   \n",
       "75%    2.000000e+09   300.000000   230.000000   4.000000   3.000000   \n",
       "max    1.200000e+10  1237.000000  1500.000000  40.000000  40.000000   \n",
       "\n",
       "             KTP        KMP    carport     garasi       listrik  \n",
       "count  97.000000  97.000000  97.000000  97.000000     97.000000  \n",
       "mean    0.020619   0.010309   0.845361   0.237113   2338.144330  \n",
       "std     0.142842   0.101535   1.236091   0.718407   2294.987441  \n",
       "min     0.000000   0.000000   0.000000   0.000000      0.000000  \n",
       "25%     0.000000   0.000000   0.000000   0.000000   1300.000000  \n",
       "50%     0.000000   0.000000   1.000000   0.000000   2200.000000  \n",
       "75%     0.000000   0.000000   1.000000   0.000000   2200.000000  \n",
       "max     1.000000   1.000000  10.000000   6.000000  22000.000000  "
      ]
     },
     "execution_count": 25,
     "metadata": {},
     "output_type": "execute_result"
    }
   ],
   "source": [
    "house_fix[house_fix[\"surat\"] == \"SHM\"].describe()"
   ]
  },
  {
   "cell_type": "code",
   "execution_count": 26,
   "metadata": {
    "id": "4xR49DT2E3sU"
   },
   "outputs": [
    {
     "data": {
      "text/html": [
       "<div>\n",
       "<style scoped>\n",
       "    .dataframe tbody tr th:only-of-type {\n",
       "        vertical-align: middle;\n",
       "    }\n",
       "\n",
       "    .dataframe tbody tr th {\n",
       "        vertical-align: top;\n",
       "    }\n",
       "\n",
       "    .dataframe thead th {\n",
       "        text-align: right;\n",
       "    }\n",
       "</style>\n",
       "<table border=\"1\" class=\"dataframe\">\n",
       "  <thead>\n",
       "    <tr style=\"text-align: right;\">\n",
       "      <th></th>\n",
       "      <th>harga</th>\n",
       "      <th>LT</th>\n",
       "      <th>LB</th>\n",
       "      <th>KT</th>\n",
       "      <th>KM</th>\n",
       "      <th>KTP</th>\n",
       "      <th>KMP</th>\n",
       "      <th>carport</th>\n",
       "      <th>garasi</th>\n",
       "      <th>listrik</th>\n",
       "    </tr>\n",
       "  </thead>\n",
       "  <tbody>\n",
       "    <tr>\n",
       "      <th>harga</th>\n",
       "      <td>1.000000</td>\n",
       "      <td>0.572364</td>\n",
       "      <td>0.533220</td>\n",
       "      <td>0.404040</td>\n",
       "      <td>0.338095</td>\n",
       "      <td>-0.010075</td>\n",
       "      <td>NaN</td>\n",
       "      <td>0.249786</td>\n",
       "      <td>0.279356</td>\n",
       "      <td>0.409020</td>\n",
       "    </tr>\n",
       "    <tr>\n",
       "      <th>LT</th>\n",
       "      <td>0.572364</td>\n",
       "      <td>1.000000</td>\n",
       "      <td>0.766041</td>\n",
       "      <td>0.701754</td>\n",
       "      <td>0.614976</td>\n",
       "      <td>0.004068</td>\n",
       "      <td>NaN</td>\n",
       "      <td>0.499538</td>\n",
       "      <td>0.152846</td>\n",
       "      <td>0.592029</td>\n",
       "    </tr>\n",
       "    <tr>\n",
       "      <th>LB</th>\n",
       "      <td>0.533220</td>\n",
       "      <td>0.766041</td>\n",
       "      <td>1.000000</td>\n",
       "      <td>0.865079</td>\n",
       "      <td>0.772382</td>\n",
       "      <td>-0.009997</td>\n",
       "      <td>NaN</td>\n",
       "      <td>0.664775</td>\n",
       "      <td>0.196643</td>\n",
       "      <td>0.752099</td>\n",
       "    </tr>\n",
       "    <tr>\n",
       "      <th>KT</th>\n",
       "      <td>0.404040</td>\n",
       "      <td>0.701754</td>\n",
       "      <td>0.865079</td>\n",
       "      <td>1.000000</td>\n",
       "      <td>0.848223</td>\n",
       "      <td>0.009241</td>\n",
       "      <td>NaN</td>\n",
       "      <td>0.806349</td>\n",
       "      <td>0.062071</td>\n",
       "      <td>0.853906</td>\n",
       "    </tr>\n",
       "    <tr>\n",
       "      <th>KM</th>\n",
       "      <td>0.338095</td>\n",
       "      <td>0.614976</td>\n",
       "      <td>0.772382</td>\n",
       "      <td>0.848223</td>\n",
       "      <td>1.000000</td>\n",
       "      <td>-0.021966</td>\n",
       "      <td>NaN</td>\n",
       "      <td>0.700027</td>\n",
       "      <td>0.020959</td>\n",
       "      <td>0.770625</td>\n",
       "    </tr>\n",
       "    <tr>\n",
       "      <th>KTP</th>\n",
       "      <td>-0.010075</td>\n",
       "      <td>0.004068</td>\n",
       "      <td>-0.009997</td>\n",
       "      <td>0.009241</td>\n",
       "      <td>-0.021966</td>\n",
       "      <td>1.000000</td>\n",
       "      <td>NaN</td>\n",
       "      <td>0.018073</td>\n",
       "      <td>-0.041085</td>\n",
       "      <td>-0.001663</td>\n",
       "    </tr>\n",
       "    <tr>\n",
       "      <th>KMP</th>\n",
       "      <td>NaN</td>\n",
       "      <td>NaN</td>\n",
       "      <td>NaN</td>\n",
       "      <td>NaN</td>\n",
       "      <td>NaN</td>\n",
       "      <td>NaN</td>\n",
       "      <td>NaN</td>\n",
       "      <td>NaN</td>\n",
       "      <td>NaN</td>\n",
       "      <td>NaN</td>\n",
       "    </tr>\n",
       "    <tr>\n",
       "      <th>carport</th>\n",
       "      <td>0.249786</td>\n",
       "      <td>0.499538</td>\n",
       "      <td>0.664775</td>\n",
       "      <td>0.806349</td>\n",
       "      <td>0.700027</td>\n",
       "      <td>0.018073</td>\n",
       "      <td>NaN</td>\n",
       "      <td>1.000000</td>\n",
       "      <td>-0.006435</td>\n",
       "      <td>0.840731</td>\n",
       "    </tr>\n",
       "    <tr>\n",
       "      <th>garasi</th>\n",
       "      <td>0.279356</td>\n",
       "      <td>0.152846</td>\n",
       "      <td>0.196643</td>\n",
       "      <td>0.062071</td>\n",
       "      <td>0.020959</td>\n",
       "      <td>-0.041085</td>\n",
       "      <td>NaN</td>\n",
       "      <td>-0.006435</td>\n",
       "      <td>1.000000</td>\n",
       "      <td>-0.012409</td>\n",
       "    </tr>\n",
       "    <tr>\n",
       "      <th>listrik</th>\n",
       "      <td>0.409020</td>\n",
       "      <td>0.592029</td>\n",
       "      <td>0.752099</td>\n",
       "      <td>0.853906</td>\n",
       "      <td>0.770625</td>\n",
       "      <td>-0.001663</td>\n",
       "      <td>NaN</td>\n",
       "      <td>0.840731</td>\n",
       "      <td>-0.012409</td>\n",
       "      <td>1.000000</td>\n",
       "    </tr>\n",
       "  </tbody>\n",
       "</table>\n",
       "</div>"
      ],
      "text/plain": [
       "            harga        LT        LB        KT        KM       KTP  KMP  \\\n",
       "harga    1.000000  0.572364  0.533220  0.404040  0.338095 -0.010075  NaN   \n",
       "LT       0.572364  1.000000  0.766041  0.701754  0.614976  0.004068  NaN   \n",
       "LB       0.533220  0.766041  1.000000  0.865079  0.772382 -0.009997  NaN   \n",
       "KT       0.404040  0.701754  0.865079  1.000000  0.848223  0.009241  NaN   \n",
       "KM       0.338095  0.614976  0.772382  0.848223  1.000000 -0.021966  NaN   \n",
       "KTP     -0.010075  0.004068 -0.009997  0.009241 -0.021966  1.000000  NaN   \n",
       "KMP           NaN       NaN       NaN       NaN       NaN       NaN  NaN   \n",
       "carport  0.249786  0.499538  0.664775  0.806349  0.700027  0.018073  NaN   \n",
       "garasi   0.279356  0.152846  0.196643  0.062071  0.020959 -0.041085  NaN   \n",
       "listrik  0.409020  0.592029  0.752099  0.853906  0.770625 -0.001663  NaN   \n",
       "\n",
       "          carport    garasi   listrik  \n",
       "harga    0.249786  0.279356  0.409020  \n",
       "LT       0.499538  0.152846  0.592029  \n",
       "LB       0.664775  0.196643  0.752099  \n",
       "KT       0.806349  0.062071  0.853906  \n",
       "KM       0.700027  0.020959  0.770625  \n",
       "KTP      0.018073 -0.041085 -0.001663  \n",
       "KMP           NaN       NaN       NaN  \n",
       "carport  1.000000 -0.006435  0.840731  \n",
       "garasi  -0.006435  1.000000 -0.012409  \n",
       "listrik  0.840731 -0.012409  1.000000  "
      ]
     },
     "execution_count": 26,
     "metadata": {},
     "output_type": "execute_result"
    }
   ],
   "source": [
    "#visualisasi data\n",
    "house_fix2.corr()"
   ]
  },
  {
   "cell_type": "code",
   "execution_count": 27,
   "metadata": {},
   "outputs": [
    {
     "data": {
      "image/png": "[encoded data removed]",
      "text/plain": [
       "<Figure size 864x720 with 2 Axes>"
      ]
     },
     "metadata": {
      "needs_background": "light"
     },
     "output_type": "display_data"
    }
   ],
   "source": [
    "#menyelidiki korelasi\n",
    "corr_2 = house_fix2.corr()\n",
    "plt.figure(figsize=(12, 10))\n",
    "sns.heatmap(corr_2[(corr_2 >= 0.5) | (corr_2 <= -0.4)], \n",
    "            cmap='viridis', vmax=1.0, vmin=-1.0, linewidths=0.1,\n",
    "            annot=True, annot_kws={\"size\": 10}, square=True);"
   ]
  },
  {
   "cell_type": "code",
   "execution_count": 28,
   "metadata": {
    "scrolled": true
   },
   "outputs": [
    {
     "data": {
      "image/png": "[encoded data removed]",
      "text/plain": [
       "<Figure size 360x360 with 1 Axes>"
      ]
     },
     "metadata": {
      "needs_background": "light"
     },
     "output_type": "display_data"
    }
   ],
   "source": [
    "#Adakah hubungan antara harga rumah dengan besar listrik ?\n",
    "p= sns.catplot(x=\"listrik\", y=\"harga\", data=house_fix2)"
   ]
  },
  {
   "cell_type": "code",
   "execution_count": 29,
   "metadata": {},
   "outputs": [
    {
     "data": {
      "image/png": "[encoded data removed]",
      "text/plain": [
       "<Figure size 360x360 with 1 Axes>"
      ]
     },
     "metadata": {
      "needs_background": "light"
     },
     "output_type": "display_data"
    }
   ],
   "source": [
    "#Adakah hubungan antara harga rumah dengan surat yang dimiliki ?\n",
    "p= sns.catplot(x=\"surat\", y=\"harga\", data=house_fix2)"
   ]
  },
  {
   "cell_type": "code",
   "execution_count": 30,
   "metadata": {},
   "outputs": [
    {
     "data": {
      "image/png": "[encoded data removed]",
      "text/plain": [
       "<Figure size 360x360 with 1 Axes>"
      ]
     },
     "metadata": {
      "needs_background": "light"
     },
     "output_type": "display_data"
    }
   ],
   "source": [
    "#Adakah hubungan antara harga rumah dengan Luas Tanah ?\n",
    "p= sns.catplot(x=\"LT\", y=\"harga\", data=house_fix2)"
   ]
  },
  {
   "cell_type": "code",
   "execution_count": 31,
   "metadata": {},
   "outputs": [
    {
     "data": {
      "image/png": "[encoded data removed]",
      "text/plain": [
       "<Figure size 360x360 with 1 Axes>"
      ]
     },
     "metadata": {
      "needs_background": "light"
     },
     "output_type": "display_data"
    }
   ],
   "source": [
    "#Adakah hubungan antara harga rumah dengan Luas Bangunan ?\n",
    "p= sns.catplot(x=\"LB\", y=\"harga\", data=house_fix2)"
   ]
  },
  {
   "cell_type": "markdown",
   "metadata": {},
   "source": [
    "#### Dari beberapa Scatter Plot diatas dapat dilihat pola titik titik tersebut membentuk garis lurus dari kiri bawah ke kanan atas yang berarti terdapat korelasi positif antara variabel X (luas tanah & luas bangunan) dengan variabel Y (harga). Yang berarti bahwa semakin besar luas tanah / luas bangunannya maka semakin besar harganya."
   ]
  },
  {
   "cell_type": "markdown",
   "metadata": {},
   "source": [
    "#### Kesimpulan\n",
    "#### Dari 100 data penjualan rumah di Palembang, terdapat 6 data yang merupakan outlier, lalu kami hilangkan outiler tersebut, lalu dari data tersebut tidak terdapat missing values, dari statistika deskriptif, kami ingin melihat korelasi antara variabel Harga dengan Luas Tanah & Luas Bangunan yang melibatkan surat. Dari hasil visualisasi Scatter Plot diatas dapat dilihat pola titik titik tersebut membentuk garis lurus dari kiri bawah ke kanan atas yang berarti terdapat korelasi positif antara variabel X (luas tanah & luas bangunan) dengan variabel Y (harga). Yang berarti bahwa semakin besar luas tanah / luas bangunannya maka semakin besar harganya. Berdasarkan tabel korelasi antarvariabel, hubungan antara variabel Harga dengan Luas Tanah memiliki korelasi terbesar yaitu 0.57.\n",
    "\n",
    "#### Untuk itu kami merekomendasikan kepada penjual rumah karena korelasi antara Luas Tanah dengan harga cukup besar maka lebih baik harga rumah dinaikkan jika luas tanahnya semakin besar"
   ]
  },
  {
   "cell_type": "code",
   "execution_count": null,
   "metadata": {},
   "outputs": [],
   "source": []
  }
 ],
 "metadata": {
  "colab": {
   "name": "Salinan dari Tugas 1 - Data Mining Kelompok 15.ipynb",
   "provenance": []
  },
  "kernelspec": {
   "display_name": "Python 3",
   "language": "python",
   "name": "python3"
  },
  "language_info": {
   "codemirror_mode": {
    "name": "ipython",
    "version": 3
   },
   "file_extension": ".py",
   "mimetype": "text/x-python",
   "name": "python",
   "nbconvert_exporter": "python",
   "pygments_lexer": "ipython3",
   "version": "3.7.6"
  }
 },
 "nbformat": 4,
 "nbformat_minor": 1
}
